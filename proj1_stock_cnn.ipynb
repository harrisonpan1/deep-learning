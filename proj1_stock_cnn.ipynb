{
 "cells": [
  {
   "cell_type": "code",
   "execution_count": 23,
   "metadata": {
    "executionInfo": {
     "elapsed": 2475,
     "status": "ok",
     "timestamp": 1742693849112,
     "user": {
      "displayName": "潘谦",
      "userId": "06305553966753750489"
     },
     "user_tz": 240
    },
    "id": "88eNCjjkibz1"
   },
   "outputs": [],
   "source": [
    "import pandas as pd\n",
    "import numpy as np\n",
    "import os.path as op\n",
    "from matplotlib import pyplot as plt\n",
    "from tqdm import tqdm\n",
    "from collections import OrderedDict\n",
    "import json\n",
    "\n",
    "import torch\n",
    "import torch.nn as nn\n",
    "from torch.utils.data import TensorDataset, DataLoader, Dataset\n",
    "import torch.optim as optim\n",
    "\n",
    "from sklearn.utils import shuffle\n",
    "\n",
    "IMAGE_WIDTH = {5: 15, 20: 60, 60: 180}\n",
    "IMAGE_HEIGHT = {5: 32, 20: 64, 60: 96}\n",
    "\n",
    "device = torch.device(\"cuda\" if torch.cuda.is_available() else \"cpu\")"
   ]
  },
  {
   "cell_type": "code",
   "execution_count": 2,
   "metadata": {
    "executionInfo": {
     "elapsed": 59,
     "status": "ok",
     "timestamp": 1742693900781,
     "user": {
      "displayName": "潘谦",
      "userId": "06305553966753750489"
     },
     "user_tz": 240
    },
    "id": "Sfiouc5yib0B"
   },
   "outputs": [],
   "source": [
    "# Input the path to the image data in your computer\n",
    "# img_path = \"monthly_20d\"\n",
    "img_path = \"/home/pqian/data/690/monthly_20d\""
   ]
  },
  {
   "cell_type": "code",
   "execution_count": 3,
   "metadata": {
    "executionInfo": {
     "elapsed": 12765,
     "status": "ok",
     "timestamp": 1742693915037,
     "user": {
      "displayName": "潘谦",
      "userId": "06305553966753750489"
     },
     "user_tz": 240
    },
    "id": "ZkDzPqhSib0D"
   },
   "outputs": [],
   "source": [
    "dfs = []\n",
    "for year in range(1993, 2020):\n",
    "    df = pd.read_feather(\n",
    "        op.join(img_path, f\"20d_month_has_vb_[20]_ma_{year}_labels_w_delay.feather\")\n",
    "    )\n",
    "    dfs.append(df)\n",
    "label_df = pd.concat(dfs, ignore_index=True)\n",
    "label_df[\"Ret_5d_binary\"] = (label_df[\"Ret_5d\"] > 0).astype(int)\n",
    "label_df[\"Date\"] = pd.to_datetime(label_df[\"Date\"])\n",
    "label_df[\"year\"] = label_df[\"Date\"].dt.year"
   ]
  },
  {
   "cell_type": "code",
   "execution_count": 4,
   "metadata": {},
   "outputs": [
    {
     "data": {
      "text/html": [
       "<div>\n",
       "<style scoped>\n",
       "    .dataframe tbody tr th:only-of-type {\n",
       "        vertical-align: middle;\n",
       "    }\n",
       "\n",
       "    .dataframe tbody tr th {\n",
       "        vertical-align: top;\n",
       "    }\n",
       "\n",
       "    .dataframe thead th {\n",
       "        text-align: right;\n",
       "    }\n",
       "</style>\n",
       "<table border=\"1\" class=\"dataframe\">\n",
       "  <thead>\n",
       "    <tr style=\"text-align: right;\">\n",
       "      <th></th>\n",
       "      <th>Date</th>\n",
       "      <th>StockID</th>\n",
       "      <th>MarketCap</th>\n",
       "      <th>Ret_5d</th>\n",
       "      <th>Ret_20d</th>\n",
       "      <th>Ret_60d</th>\n",
       "      <th>Ret_month</th>\n",
       "      <th>EWMA_vol</th>\n",
       "      <th>Ret_5d_binary</th>\n",
       "      <th>year</th>\n",
       "    </tr>\n",
       "  </thead>\n",
       "  <tbody>\n",
       "    <tr>\n",
       "      <th>0</th>\n",
       "      <td>1993-01-29</td>\n",
       "      <td>10001</td>\n",
       "      <td>-1.512000e+04</td>\n",
       "      <td>3.240260e-07</td>\n",
       "      <td>0.035714</td>\n",
       "      <td>0.065641</td>\n",
       "      <td>0.017857</td>\n",
       "      <td>0.000417</td>\n",
       "      <td>1</td>\n",
       "      <td>1993</td>\n",
       "    </tr>\n",
       "    <tr>\n",
       "      <th>1</th>\n",
       "      <td>1993-02-26</td>\n",
       "      <td>10001</td>\n",
       "      <td>1.539000e+04</td>\n",
       "      <td>-8.771723e-03</td>\n",
       "      <td>0.002584</td>\n",
       "      <td>0.073561</td>\n",
       "      <td>0.011456</td>\n",
       "      <td>0.000342</td>\n",
       "      <td>0</td>\n",
       "      <td>1993</td>\n",
       "    </tr>\n",
       "    <tr>\n",
       "      <th>2</th>\n",
       "      <td>1993-03-31</td>\n",
       "      <td>10001</td>\n",
       "      <td>1.531875e+04</td>\n",
       "      <td>-8.771614e-03</td>\n",
       "      <td>0.105263</td>\n",
       "      <td>0.117841</td>\n",
       "      <td>0.070175</td>\n",
       "      <td>0.000471</td>\n",
       "      <td>0</td>\n",
       "      <td>1993</td>\n",
       "    </tr>\n",
       "    <tr>\n",
       "      <th>3</th>\n",
       "      <td>1993-04-30</td>\n",
       "      <td>10001</td>\n",
       "      <td>-1.639375e+04</td>\n",
       "      <td>3.278655e-02</td>\n",
       "      <td>-0.008199</td>\n",
       "      <td>0.085991</td>\n",
       "      <td>-0.008199</td>\n",
       "      <td>0.000389</td>\n",
       "      <td>1</td>\n",
       "      <td>1993</td>\n",
       "    </tr>\n",
       "    <tr>\n",
       "      <th>4</th>\n",
       "      <td>1993-05-28</td>\n",
       "      <td>10001</td>\n",
       "      <td>-1.625938e+04</td>\n",
       "      <td>2.809882e-02</td>\n",
       "      <td>0.086608</td>\n",
       "      <td>0.136763</td>\n",
       "      <td>0.103326</td>\n",
       "      <td>0.000566</td>\n",
       "      <td>1</td>\n",
       "      <td>1993</td>\n",
       "    </tr>\n",
       "    <tr>\n",
       "      <th>...</th>\n",
       "      <td>...</td>\n",
       "      <td>...</td>\n",
       "      <td>...</td>\n",
       "      <td>...</td>\n",
       "      <td>...</td>\n",
       "      <td>...</td>\n",
       "      <td>...</td>\n",
       "      <td>...</td>\n",
       "      <td>...</td>\n",
       "      <td>...</td>\n",
       "    </tr>\n",
       "    <tr>\n",
       "      <th>2196989</th>\n",
       "      <td>2019-08-30</td>\n",
       "      <td>93436</td>\n",
       "      <td>4.041284e+07</td>\n",
       "      <td>2.739224e-02</td>\n",
       "      <td>0.067639</td>\n",
       "      <td>0.490805</td>\n",
       "      <td>0.067639</td>\n",
       "      <td>0.000867</td>\n",
       "      <td>1</td>\n",
       "      <td>2019</td>\n",
       "    </tr>\n",
       "    <tr>\n",
       "      <th>2196990</th>\n",
       "      <td>2019-09-30</td>\n",
       "      <td>93436</td>\n",
       "      <td>4.335660e+07</td>\n",
       "      <td>-1.307759e-02</td>\n",
       "      <td>0.360527</td>\n",
       "      <td>0.765477</td>\n",
       "      <td>0.307429</td>\n",
       "      <td>0.000920</td>\n",
       "      <td>0</td>\n",
       "      <td>2019</td>\n",
       "    </tr>\n",
       "    <tr>\n",
       "      <th>2196991</th>\n",
       "      <td>2019-10-31</td>\n",
       "      <td>93436</td>\n",
       "      <td>5.676276e+07</td>\n",
       "      <td>6.547814e-02</td>\n",
       "      <td>0.047695</td>\n",
       "      <td>0.844879</td>\n",
       "      <td>0.047695</td>\n",
       "      <td>0.002130</td>\n",
       "      <td>1</td>\n",
       "      <td>2019</td>\n",
       "    </tr>\n",
       "    <tr>\n",
       "      <th>2196992</th>\n",
       "      <td>2019-11-29</td>\n",
       "      <td>93436</td>\n",
       "      <td>5.947004e+07</td>\n",
       "      <td>1.803443e-02</td>\n",
       "      <td>0.256895</td>\n",
       "      <td>1.057951</td>\n",
       "      <td>0.267897</td>\n",
       "      <td>0.001075</td>\n",
       "      <td>1</td>\n",
       "      <td>2019</td>\n",
       "    </tr>\n",
       "    <tr>\n",
       "      <th>2196993</th>\n",
       "      <td>2019-12-31</td>\n",
       "      <td>93436</td>\n",
       "      <td>7.571773e+07</td>\n",
       "      <td>1.764403e-01</td>\n",
       "      <td>0.531828</td>\n",
       "      <td>0.229557</td>\n",
       "      <td>NaN</td>\n",
       "      <td>0.000757</td>\n",
       "      <td>1</td>\n",
       "      <td>2019</td>\n",
       "    </tr>\n",
       "  </tbody>\n",
       "</table>\n",
       "<p>2196994 rows × 10 columns</p>\n",
       "</div>"
      ],
      "text/plain": [
       "              Date StockID     MarketCap        Ret_5d   Ret_20d   Ret_60d  \\\n",
       "0       1993-01-29   10001 -1.512000e+04  3.240260e-07  0.035714  0.065641   \n",
       "1       1993-02-26   10001  1.539000e+04 -8.771723e-03  0.002584  0.073561   \n",
       "2       1993-03-31   10001  1.531875e+04 -8.771614e-03  0.105263  0.117841   \n",
       "3       1993-04-30   10001 -1.639375e+04  3.278655e-02 -0.008199  0.085991   \n",
       "4       1993-05-28   10001 -1.625938e+04  2.809882e-02  0.086608  0.136763   \n",
       "...            ...     ...           ...           ...       ...       ...   \n",
       "2196989 2019-08-30   93436  4.041284e+07  2.739224e-02  0.067639  0.490805   \n",
       "2196990 2019-09-30   93436  4.335660e+07 -1.307759e-02  0.360527  0.765477   \n",
       "2196991 2019-10-31   93436  5.676276e+07  6.547814e-02  0.047695  0.844879   \n",
       "2196992 2019-11-29   93436  5.947004e+07  1.803443e-02  0.256895  1.057951   \n",
       "2196993 2019-12-31   93436  7.571773e+07  1.764403e-01  0.531828  0.229557   \n",
       "\n",
       "         Ret_month  EWMA_vol  Ret_5d_binary  year  \n",
       "0         0.017857  0.000417              1  1993  \n",
       "1         0.011456  0.000342              0  1993  \n",
       "2         0.070175  0.000471              0  1993  \n",
       "3        -0.008199  0.000389              1  1993  \n",
       "4         0.103326  0.000566              1  1993  \n",
       "...            ...       ...            ...   ...  \n",
       "2196989   0.067639  0.000867              1  2019  \n",
       "2196990   0.307429  0.000920              0  2019  \n",
       "2196991   0.047695  0.002130              1  2019  \n",
       "2196992   0.267897  0.001075              1  2019  \n",
       "2196993        NaN  0.000757              1  2019  \n",
       "\n",
       "[2196994 rows x 10 columns]"
      ]
     },
     "execution_count": 4,
     "metadata": {},
     "output_type": "execute_result"
    }
   ],
   "source": [
    "label_df"
   ]
  },
  {
   "cell_type": "code",
   "execution_count": 5,
   "metadata": {
    "id": "9LThM-KRib0G"
   },
   "outputs": [],
   "source": [
    "def load_images_for_year(year, img_path, height, width):\n",
    "    img_file = f\"20d_month_has_vb_[20]_ma_{year}_images.dat\"\n",
    "    full_path = op.join(img_path, img_file)\n",
    "    images = np.memmap(full_path, dtype=np.uint8, mode=\"r\").reshape(-1, height, width)\n",
    "    return images"
   ]
  },
  {
   "cell_type": "code",
   "execution_count": 6,
   "metadata": {
    "id": "FWlVMJFXib0H"
   },
   "outputs": [],
   "source": [
    "image_map = {}\n",
    "for year in range(1993, 2020):\n",
    "    imgs = load_images_for_year(year, img_path, IMAGE_HEIGHT[20], IMAGE_WIDTH[20])\n",
    "    idx = label_df[\"year\"] == year\n",
    "    image_map[year] = imgs\n",
    "    label_df.loc[idx, \"image_index\"] = np.arange(len(imgs))"
   ]
  },
  {
   "cell_type": "code",
   "execution_count": 7,
   "metadata": {},
   "outputs": [
    {
     "data": {
      "text/plain": [
       "<matplotlib.image.AxesImage at 0x7c16e25ad890>"
      ]
     },
     "execution_count": 7,
     "metadata": {},
     "output_type": "execute_result"
    },
    {
     "data": {
      "image/png": "[encoded data removed]",
      "text/plain": [
       "<Figure size 640x480 with 1 Axes>"
      ]
     },
     "metadata": {},
     "output_type": "display_data"
    }
   ],
   "source": [
    "plt.imshow(image_map[1993][0], cmap=\"gray\")"
   ]
  },
  {
   "cell_type": "markdown",
   "metadata": {
    "id": "AWdN71f5ib0J"
   },
   "source": [
    "## dataset split - expanding-window split\n",
    "- train/test/val\n",
    "- For each window:\n",
    "<br>\n",
    "Train:      1993     —> val_start - 1\n",
    "<br>\n",
    "Val:        val_start       —> test_start - 1\n",
    "<br>\n",
    "Test:                      test_start     —> test_start + test_years"
   ]
  },
  {
   "cell_type": "code",
   "execution_count": 8,
   "metadata": {
    "id": "pp7umUBEib0b"
   },
   "outputs": [],
   "source": [
    "def to_dataloader(X, y, batch_size=32, shuffle_data=True):\n",
    "    X_tensor = torch.tensor(X, dtype=torch.float32).unsqueeze(1)  # Add channel dim\n",
    "    y_tensor = torch.tensor(y, dtype=torch.float32)\n",
    "    dataset = TensorDataset(X_tensor, y_tensor)\n",
    "    return DataLoader(dataset, batch_size=batch_size, shuffle=shuffle_data)"
   ]
  },
  {
   "cell_type": "code",
   "execution_count": 9,
   "metadata": {
    "id": "SWt2_accib0f"
   },
   "outputs": [],
   "source": [
    "# Create binary prediction target; The objective for this project is to predict the binary price movement for the next five days\n",
    "label_df[\"Ret_5d_binary\"] = (label_df[\"Ret_5d\"] > 0).astype(int)"
   ]
  },
  {
   "cell_type": "code",
   "execution_count": 10,
   "metadata": {
    "id": "l7Bv8om6ib0g"
   },
   "outputs": [],
   "source": [
    "class ImageDataset(Dataset):\n",
    "    def __init__(self, label_subset, image_map):\n",
    "        self.label_subset = label_subset.reset_index(drop=True)\n",
    "        self.image_map = image_map\n",
    "\n",
    "    def __len__(self):\n",
    "        return len(self.label_subset)\n",
    "\n",
    "    def __getitem__(self, idx):\n",
    "        row = self.label_subset.iloc[idx]\n",
    "        image = self.image_map[row.year][int(row.image_index)]\n",
    "        image = torch.tensor(image, dtype=torch.float32).unsqueeze(0)  # Add channel dim\n",
    "        label = torch.tensor(row[\"Ret_5d_binary\"], dtype=torch.float32)\n",
    "        return image, label"
   ]
  },
  {
   "cell_type": "code",
   "execution_count": 11,
   "metadata": {
    "id": "z04xtCBXib0h"
   },
   "outputs": [],
   "source": [
    "def get_dataset(mask):\n",
    "    subset = label_df[mask]\n",
    "    return ImageDataset(subset, image_map)"
   ]
  },
  {
   "cell_type": "code",
   "execution_count": 12,
   "metadata": {
    "id": "cry0PqHLib0i"
   },
   "outputs": [],
   "source": [
    "val_years = 2\n",
    "test_years = 1\n",
    "min_train_years = 5\n",
    "\n",
    "splits = []\n",
    "\n",
    "for test_start_year in range(2000, 2019, 2):\n",
    "    val_start_year = test_start_year - val_years\n",
    "    train_end_year = val_start_year\n",
    "\n",
    "    # train_mask = label_df[\"Date\"].dt.year < train_end_year\n",
    "    train_mask = (label_df[\"Date\"].dt.year < train_end_year) & (\n",
    "        label_df[\"Date\"].dt.year >= train_end_year - 5\n",
    "    )  # TODO: Change back previous line, save time here\n",
    "    val_mask = (label_df[\"Date\"].dt.year >= val_start_year) & (\n",
    "        label_df[\"Date\"].dt.year < test_start_year\n",
    "    )\n",
    "    test_mask = (label_df[\"Date\"].dt.year >= test_start_year) & (\n",
    "        label_df[\"Date\"].dt.year < test_start_year + test_years\n",
    "    )\n",
    "\n",
    "    # Skip split if any part is empty\n",
    "    if train_mask.sum() == 0 or val_mask.sum() == 0 or test_mask.sum() == 0:\n",
    "        continue\n",
    "\n",
    "    train_ds = get_dataset(train_mask)\n",
    "    val_ds = get_dataset(val_mask)\n",
    "    test_ds = get_dataset(test_mask)\n",
    "\n",
    "    train_loader = DataLoader(train_ds, batch_size=64, shuffle=True)\n",
    "    val_loader = DataLoader(val_ds, batch_size=64, shuffle=False)\n",
    "    test_loader = DataLoader(test_ds, batch_size=64, shuffle=False)\n",
    "\n",
    "    splits.append(\n",
    "        {\n",
    "            \"train_loader\": train_loader,\n",
    "            \"val_loader\": val_loader,\n",
    "            \"test_loader\": test_loader,\n",
    "            \"years\": {\n",
    "                \"train\": label_df[train_mask][\"Date\"].dt.year.unique().tolist(),\n",
    "                \"val\": label_df[val_mask][\"Date\"].dt.year.unique().tolist(),\n",
    "                \"test\": label_df[test_mask][\"Date\"].dt.year.unique().tolist(),\n",
    "            },\n",
    "        }\n",
    "    )"
   ]
  },
  {
   "cell_type": "code",
   "execution_count": 13,
   "metadata": {},
   "outputs": [
    {
     "data": {
      "text/plain": [
       "[{'train_loader': <torch.utils.data.dataloader.DataLoader at 0x7c16e1b744d0>,\n",
       "  'val_loader': <torch.utils.data.dataloader.DataLoader at 0x7c1734b78190>,\n",
       "  'test_loader': <torch.utils.data.dataloader.DataLoader at 0x7c17b403d190>,\n",
       "  'years': {'train': [1993, 1994, 1995, 1996, 1997],\n",
       "   'val': [1998, 1999],\n",
       "   'test': [2000]}},\n",
       " {'train_loader': <torch.utils.data.dataloader.DataLoader at 0x7c16e1b1f650>,\n",
       "  'val_loader': <torch.utils.data.dataloader.DataLoader at 0x7c16e1b1e9d0>,\n",
       "  'test_loader': <torch.utils.data.dataloader.DataLoader at 0x7c16e1b1f890>,\n",
       "  'years': {'train': [1995, 1996, 1997, 1998, 1999],\n",
       "   'val': [2000, 2001],\n",
       "   'test': [2002]}},\n",
       " {'train_loader': <torch.utils.data.dataloader.DataLoader at 0x7c16e1b21c90>,\n",
       "  'val_loader': <torch.utils.data.dataloader.DataLoader at 0x7c16e1b12b90>,\n",
       "  'test_loader': <torch.utils.data.dataloader.DataLoader at 0x7c16e1b13250>,\n",
       "  'years': {'train': [1997, 1998, 1999, 2000, 2001],\n",
       "   'val': [2002, 2003],\n",
       "   'test': [2004]}},\n",
       " {'train_loader': <torch.utils.data.dataloader.DataLoader at 0x7c16e25aca10>,\n",
       "  'val_loader': <torch.utils.data.dataloader.DataLoader at 0x7c16e1b10e90>,\n",
       "  'test_loader': <torch.utils.data.dataloader.DataLoader at 0x7c16e1b11490>,\n",
       "  'years': {'train': [1999, 2000, 2001, 2002, 2003],\n",
       "   'val': [2004, 2005],\n",
       "   'test': [2006]}},\n",
       " {'train_loader': <torch.utils.data.dataloader.DataLoader at 0x7c16e1bbd850>,\n",
       "  'val_loader': <torch.utils.data.dataloader.DataLoader at 0x7c16e1b07450>,\n",
       "  'test_loader': <torch.utils.data.dataloader.DataLoader at 0x7c16e1b06910>,\n",
       "  'years': {'train': [2001, 2002, 2003, 2004, 2005],\n",
       "   'val': [2006, 2007],\n",
       "   'test': [2008]}},\n",
       " {'train_loader': <torch.utils.data.dataloader.DataLoader at 0x7c16e1ba9f10>,\n",
       "  'val_loader': <torch.utils.data.dataloader.DataLoader at 0x7c16e1b1eb10>,\n",
       "  'test_loader': <torch.utils.data.dataloader.DataLoader at 0x7c16e1b06590>,\n",
       "  'years': {'train': [2003, 2004, 2005, 2006, 2007],\n",
       "   'val': [2008, 2009],\n",
       "   'test': [2010]}},\n",
       " {'train_loader': <torch.utils.data.dataloader.DataLoader at 0x7c16e1b05ed0>,\n",
       "  'val_loader': <torch.utils.data.dataloader.DataLoader at 0x7c16e1bdb290>,\n",
       "  'test_loader': <torch.utils.data.dataloader.DataLoader at 0x7c16e1bda9d0>,\n",
       "  'years': {'train': [2005, 2006, 2007, 2008, 2009],\n",
       "   'val': [2010, 2011],\n",
       "   'test': [2012]}},\n",
       " {'train_loader': <torch.utils.data.dataloader.DataLoader at 0x7c16e1b11110>,\n",
       "  'val_loader': <torch.utils.data.dataloader.DataLoader at 0x7c16e1bf24d0>,\n",
       "  'test_loader': <torch.utils.data.dataloader.DataLoader at 0x7c16e1bf1250>,\n",
       "  'years': {'train': [2007, 2008, 2009, 2010, 2011],\n",
       "   'val': [2012, 2013],\n",
       "   'test': [2014]}},\n",
       " {'train_loader': <torch.utils.data.dataloader.DataLoader at 0x7c16e2577610>,\n",
       "  'val_loader': <torch.utils.data.dataloader.DataLoader at 0x7c16e1bf0ad0>,\n",
       "  'test_loader': <torch.utils.data.dataloader.DataLoader at 0x7c16e1bf3190>,\n",
       "  'years': {'train': [2009, 2010, 2011, 2012, 2013],\n",
       "   'val': [2014, 2015],\n",
       "   'test': [2016]}},\n",
       " {'train_loader': <torch.utils.data.dataloader.DataLoader at 0x7c1838d42490>,\n",
       "  'val_loader': <torch.utils.data.dataloader.DataLoader at 0x7c16e1bf9790>,\n",
       "  'test_loader': <torch.utils.data.dataloader.DataLoader at 0x7c16e1bf8310>,\n",
       "  'years': {'train': [2011, 2012, 2013, 2014, 2015],\n",
       "   'val': [2016, 2017],\n",
       "   'test': [2018]}}]"
      ]
     },
     "execution_count": 13,
     "metadata": {},
     "output_type": "execute_result"
    }
   ],
   "source": [
    "splits"
   ]
  },
  {
   "cell_type": "markdown",
   "metadata": {},
   "source": [
    "# helper functions"
   ]
  },
  {
   "cell_type": "code",
   "execution_count": 14,
   "metadata": {},
   "outputs": [],
   "source": [
    "def training(train_loader, model, criterion, optimizer):\n",
    "    running_loss = 0.0\n",
    "    model.train()\n",
    "\n",
    "    with tqdm(train_loader) as t:\n",
    "        for X_batch, y_batch in t:\n",
    "            if isinstance(criterion, nn.CrossEntropyLoss):\n",
    "                y_batch = y_batch.long()\n",
    "            X_batch, y_batch = X_batch.to(device), y_batch.to(device)\n",
    "            y_pred = model(X_batch).squeeze(1)\n",
    "            loss = criterion(y_pred, y_batch)\n",
    "\n",
    "            optimizer.zero_grad()\n",
    "            loss.backward()\n",
    "            # for name, param in model.named_parameters():\n",
    "            #     # print(f\"{name}: requires_grad={param.requires_grad}\")\n",
    "            #     if param.grad is None:\n",
    "            #         print(f\"🚨 No gradient for {name}\")\n",
    "            #     elif torch.all(param.grad == 0):\n",
    "            #         print(f\"⚠️ Zero gradient for {name}\")\n",
    "            # before = model.fc1[1].weight.clone()\n",
    "            optimizer.step()\n",
    "            # after = model.fc1[1].weight.clone()\n",
    "            # if torch.equal(before, after):\n",
    "            #     print(\"🚨 Model parameters are not updating!\")\n",
    "\n",
    "            running_loss += loss.item()\n",
    "            t.set_postfix(loss=running_loss)\n",
    "    return running_loss / len(train_loader)\n",
    "\n",
    "\n",
    "def validation(val_loader, model, criterion):\n",
    "    running_loss = 0.0\n",
    "    model.eval()\n",
    "    val_correct, val_total = 0, 0\n",
    "    with torch.no_grad():\n",
    "        with tqdm(val_loader) as t:\n",
    "            for X_batch, y_batch in t:\n",
    "                if isinstance(criterion, nn.CrossEntropyLoss):\n",
    "                    y_batch = y_batch.long()\n",
    "                X_batch, y_batch = X_batch.to(device), y_batch.to(device)\n",
    "                y_pred = model(X_batch).squeeze(1)\n",
    "                loss = criterion(y_pred, y_batch)\n",
    "\n",
    "                running_loss += loss.item()\n",
    "\n",
    "                if isinstance(criterion, nn.CrossEntropyLoss):\n",
    "                    predicted = torch.argmax(y_pred, dim=1)\n",
    "                else:\n",
    "                    predicted = (y_pred > 0.5).float()\n",
    "                val_total += y_batch.size(0)\n",
    "                val_correct += (predicted == y_batch).sum().item()\n",
    "\n",
    "                t.set_postfix(loss=running_loss)\n",
    "\n",
    "    val_acc = 100 * val_correct / val_total\n",
    "    return running_loss / len(val_loader), val_acc"
   ]
  },
  {
   "cell_type": "markdown",
   "metadata": {
    "id": "1M8BiXNcib0j"
   },
   "source": [
    "## CNN model training - demo"
   ]
  },
  {
   "cell_type": "code",
   "execution_count": 19,
   "metadata": {
    "id": "ozgokWEMib0j"
   },
   "outputs": [],
   "source": [
    "# Define CNN model\n",
    "class StockNet(nn.Module):\n",
    "    def __init__(self):\n",
    "        super(StockNet, self).__init__()\n",
    "        self.conv1 = nn.Conv2d(1, 32, kernel_size=3, padding=1)\n",
    "        self.pool = nn.MaxPool2d(2, 2)\n",
    "        self.conv2 = nn.Conv2d(32, 64, kernel_size=3, padding=1)\n",
    "        self.conv3 = nn.Conv2d(64, 64, kernel_size=3, padding=1)\n",
    "        self.fc1 = nn.Linear(64 * 8 * 7, 64)\n",
    "        self.fc2 = nn.Linear(64, 1)\n",
    "        self.dropout = nn.Dropout(0.5)\n",
    "\n",
    "    def forward(self, x):\n",
    "        x = self.pool(nn.functional.relu(self.conv1(x)))  # 64x60 -> 32x30\n",
    "        x = self.pool(nn.functional.relu(self.conv2(x)))  # 32x30 -> 16x15\n",
    "        x = self.pool(nn.functional.relu(self.conv3(x)))  # 16x15 -> 8x7\n",
    "        x = x.view(-1, 64 * 8 * 7)  # Flatten to 64*8*7\n",
    "        x = self.dropout(nn.functional.relu(self.fc1(x)))\n",
    "        x = torch.sigmoid(self.fc2(x))\n",
    "        return x"
   ]
  },
  {
   "cell_type": "code",
   "execution_count": 20,
   "metadata": {
    "id": "TgfHQLuxib0l",
    "outputId": "8cb95550-9ac9-4bf1-cf3b-ebabe3d03f33"
   },
   "outputs": [
    {
     "name": "stdout",
     "output_type": "stream",
     "text": [
      "\n",
      "🔁 Split 1 | Train years: [1993, 1994, 1995, 1996, 1997], Val: [1998, 1999], Test: [2000]\n"
     ]
    },
    {
     "name": "stderr",
     "output_type": "stream",
     "text": [
      "100%|██████████| 7632/7632 [00:56<00:00, 135.72it/s, loss=3.81e+5]\n"
     ]
    },
    {
     "name": "stdout",
     "output_type": "stream",
     "text": [
      "Epoch 1/10, Training: Loss is 49.9008\n"
     ]
    },
    {
     "name": "stderr",
     "output_type": "stream",
     "text": [
      "100%|██████████| 3227/3227 [00:15<00:00, 212.12it/s, loss=1.68e+5]\n"
     ]
    },
    {
     "name": "stdout",
     "output_type": "stream",
     "text": [
      "Epoch 1/10, Validation: Loss is 52.0891, Val Acc is 47.91%\n"
     ]
    },
    {
     "name": "stderr",
     "output_type": "stream",
     "text": [
      "100%|██████████| 7632/7632 [00:53<00:00, 142.72it/s, loss=3.81e+5]\n"
     ]
    },
    {
     "name": "stdout",
     "output_type": "stream",
     "text": [
      "Epoch 2/10, Training: Loss is 49.9028\n"
     ]
    },
    {
     "name": "stderr",
     "output_type": "stream",
     "text": [
      "100%|██████████| 3227/3227 [00:15<00:00, 212.69it/s, loss=1.68e+5]\n"
     ]
    },
    {
     "name": "stdout",
     "output_type": "stream",
     "text": [
      "Epoch 2/10, Validation: Loss is 52.0891, Val Acc is 47.91%\n"
     ]
    },
    {
     "name": "stderr",
     "output_type": "stream",
     "text": [
      "100%|██████████| 7632/7632 [00:54<00:00, 140.60it/s, loss=3.81e+5]\n"
     ]
    },
    {
     "name": "stdout",
     "output_type": "stream",
     "text": [
      "Epoch 3/10, Training: Loss is 49.8964\n"
     ]
    },
    {
     "name": "stderr",
     "output_type": "stream",
     "text": [
      "100%|██████████| 3227/3227 [00:15<00:00, 211.54it/s, loss=1.68e+5]\n"
     ]
    },
    {
     "name": "stdout",
     "output_type": "stream",
     "text": [
      "Epoch 3/10, Validation: Loss is 52.0891, Val Acc is 47.91%\n"
     ]
    },
    {
     "name": "stderr",
     "output_type": "stream",
     "text": [
      "100%|██████████| 7632/7632 [00:57<00:00, 133.33it/s, loss=3.81e+5]\n"
     ]
    },
    {
     "name": "stdout",
     "output_type": "stream",
     "text": [
      "Epoch 4/10, Training: Loss is 49.8901\n"
     ]
    },
    {
     "name": "stderr",
     "output_type": "stream",
     "text": [
      "100%|██████████| 3227/3227 [00:15<00:00, 212.88it/s, loss=1.68e+5]\n"
     ]
    },
    {
     "name": "stdout",
     "output_type": "stream",
     "text": [
      "Epoch 4/10, Validation: Loss is 52.0891, Val Acc is 47.91%\n",
      "🛑 Early stopping triggered at epoch 4\n",
      "\n",
      "🔁 Split 2 | Train years: [1995, 1996, 1997, 1998, 1999], Val: [2000, 2001], Test: [2002]\n"
     ]
    },
    {
     "name": "stderr",
     "output_type": "stream",
     "text": [
      "100%|██████████| 8039/8039 [01:00<00:00, 133.97it/s, loss=4.03e+5]\n"
     ]
    },
    {
     "name": "stdout",
     "output_type": "stream",
     "text": [
      "Epoch 1/10, Training: Loss is 50.1050\n"
     ]
    },
    {
     "name": "stderr",
     "output_type": "stream",
     "text": [
      "100%|██████████| 2971/2971 [00:14<00:00, 210.79it/s, loss=1.53e+5]\n"
     ]
    },
    {
     "name": "stdout",
     "output_type": "stream",
     "text": [
      "Epoch 1/10, Validation: Loss is 51.5302, Val Acc is 48.47%\n"
     ]
    },
    {
     "name": "stderr",
     "output_type": "stream",
     "text": [
      "100%|██████████| 8039/8039 [01:00<00:00, 133.41it/s, loss=4.05e+5]\n"
     ]
    },
    {
     "name": "stdout",
     "output_type": "stream",
     "text": [
      "Epoch 2/10, Training: Loss is 50.3545\n"
     ]
    },
    {
     "name": "stderr",
     "output_type": "stream",
     "text": [
      "100%|██████████| 2971/2971 [00:14<00:00, 212.07it/s, loss=1.53e+5]\n"
     ]
    },
    {
     "name": "stdout",
     "output_type": "stream",
     "text": [
      "Epoch 2/10, Validation: Loss is 51.5302, Val Acc is 48.47%\n"
     ]
    },
    {
     "name": "stderr",
     "output_type": "stream",
     "text": [
      "100%|██████████| 8039/8039 [01:00<00:00, 133.69it/s, loss=4.05e+5]\n"
     ]
    },
    {
     "name": "stdout",
     "output_type": "stream",
     "text": [
      "Epoch 3/10, Training: Loss is 50.3852\n"
     ]
    },
    {
     "name": "stderr",
     "output_type": "stream",
     "text": [
      "100%|██████████| 2971/2971 [00:14<00:00, 210.25it/s, loss=1.53e+5]\n"
     ]
    },
    {
     "name": "stdout",
     "output_type": "stream",
     "text": [
      "Epoch 3/10, Validation: Loss is 51.5302, Val Acc is 48.47%\n"
     ]
    },
    {
     "name": "stderr",
     "output_type": "stream",
     "text": [
      "100%|██████████| 8039/8039 [01:00<00:00, 133.84it/s, loss=4.05e+5]\n"
     ]
    },
    {
     "name": "stdout",
     "output_type": "stream",
     "text": [
      "Epoch 4/10, Training: Loss is 50.3850\n"
     ]
    },
    {
     "name": "stderr",
     "output_type": "stream",
     "text": [
      "100%|██████████| 2971/2971 [00:14<00:00, 211.01it/s, loss=1.53e+5]\n"
     ]
    },
    {
     "name": "stdout",
     "output_type": "stream",
     "text": [
      "Epoch 4/10, Validation: Loss is 51.5302, Val Acc is 48.47%\n",
      "🛑 Early stopping triggered at epoch 4\n",
      "\n",
      "🔁 Split 3 | Train years: [1997, 1998, 1999, 2000, 2001], Val: [2002, 2003], Test: [2004]\n"
     ]
    },
    {
     "name": "stderr",
     "output_type": "stream",
     "text": [
      "100%|██████████| 7874/7874 [00:58<00:00, 133.85it/s, loss=5.23e+4]\n"
     ]
    },
    {
     "name": "stdout",
     "output_type": "stream",
     "text": [
      "Epoch 1/10, Training: Loss is 6.6382\n"
     ]
    },
    {
     "name": "stderr",
     "output_type": "stream",
     "text": [
      "100%|██████████| 2604/2604 [00:12<00:00, 211.36it/s, loss=1.8e+3] \n"
     ]
    },
    {
     "name": "stdout",
     "output_type": "stream",
     "text": [
      "Epoch 1/10, Validation: Loss is 0.6930, Val Acc is 50.85%\n"
     ]
    },
    {
     "name": "stderr",
     "output_type": "stream",
     "text": [
      "100%|██████████| 7874/7874 [00:58<00:00, 133.70it/s, loss=5.46e+3]\n"
     ]
    },
    {
     "name": "stdout",
     "output_type": "stream",
     "text": [
      "Epoch 2/10, Training: Loss is 0.6930\n"
     ]
    },
    {
     "name": "stderr",
     "output_type": "stream",
     "text": [
      "100%|██████████| 2604/2604 [00:12<00:00, 211.25it/s, loss=1.8e+3] \n"
     ]
    },
    {
     "name": "stdout",
     "output_type": "stream",
     "text": [
      "Epoch 2/10, Validation: Loss is 0.6930, Val Acc is 50.85%\n"
     ]
    },
    {
     "name": "stderr",
     "output_type": "stream",
     "text": [
      "100%|██████████| 7874/7874 [00:55<00:00, 143.06it/s, loss=5.46e+3]\n"
     ]
    },
    {
     "name": "stdout",
     "output_type": "stream",
     "text": [
      "Epoch 3/10, Training: Loss is 0.6930\n"
     ]
    },
    {
     "name": "stderr",
     "output_type": "stream",
     "text": [
      "100%|██████████| 2604/2604 [00:12<00:00, 211.61it/s, loss=1.8e+3] \n"
     ]
    },
    {
     "name": "stdout",
     "output_type": "stream",
     "text": [
      "Epoch 3/10, Validation: Loss is 0.6930, Val Acc is 50.85%\n"
     ]
    },
    {
     "name": "stderr",
     "output_type": "stream",
     "text": [
      "100%|██████████| 7874/7874 [00:55<00:00, 142.82it/s, loss=5.46e+3]\n"
     ]
    },
    {
     "name": "stdout",
     "output_type": "stream",
     "text": [
      "Epoch 4/10, Training: Loss is 0.6930\n"
     ]
    },
    {
     "name": "stderr",
     "output_type": "stream",
     "text": [
      "100%|██████████| 2604/2604 [00:12<00:00, 211.72it/s, loss=1.8e+3] \n"
     ]
    },
    {
     "name": "stdout",
     "output_type": "stream",
     "text": [
      "Epoch 4/10, Validation: Loss is 0.6930, Val Acc is 50.85%\n",
      "🛑 Early stopping triggered at epoch 4\n",
      "\n",
      "🔁 Split 4 | Train years: [1999, 2000, 2001, 2002, 2003], Val: [2004, 2005], Test: [2006]\n"
     ]
    },
    {
     "name": "stderr",
     "output_type": "stream",
     "text": [
      "100%|██████████| 7142/7142 [00:53<00:00, 133.21it/s, loss=3.54e+5]\n"
     ]
    },
    {
     "name": "stdout",
     "output_type": "stream",
     "text": [
      "Epoch 1/10, Training: Loss is 49.6163\n"
     ]
    },
    {
     "name": "stderr",
     "output_type": "stream",
     "text": [
      "100%|██████████| 2491/2491 [00:11<00:00, 209.05it/s, loss=1.13e+5]\n"
     ]
    },
    {
     "name": "stdout",
     "output_type": "stream",
     "text": [
      "Epoch 1/10, Validation: Loss is 45.2927, Val Acc is 54.71%\n"
     ]
    },
    {
     "name": "stderr",
     "output_type": "stream",
     "text": [
      "100%|██████████| 7142/7142 [00:53<00:00, 133.34it/s, loss=3.54e+5]\n"
     ]
    },
    {
     "name": "stdout",
     "output_type": "stream",
     "text": [
      "Epoch 2/10, Training: Loss is 49.6229\n"
     ]
    },
    {
     "name": "stderr",
     "output_type": "stream",
     "text": [
      "100%|██████████| 2491/2491 [00:11<00:00, 210.53it/s, loss=1.13e+5]\n"
     ]
    },
    {
     "name": "stdout",
     "output_type": "stream",
     "text": [
      "Epoch 2/10, Validation: Loss is 45.2927, Val Acc is 54.71%\n"
     ]
    },
    {
     "name": "stderr",
     "output_type": "stream",
     "text": [
      "100%|██████████| 7142/7142 [00:53<00:00, 133.53it/s, loss=3.54e+5]\n"
     ]
    },
    {
     "name": "stdout",
     "output_type": "stream",
     "text": [
      "Epoch 3/10, Training: Loss is 49.6220\n"
     ]
    },
    {
     "name": "stderr",
     "output_type": "stream",
     "text": [
      "100%|██████████| 2491/2491 [00:11<00:00, 210.54it/s, loss=1.13e+5]\n"
     ]
    },
    {
     "name": "stdout",
     "output_type": "stream",
     "text": [
      "Epoch 3/10, Validation: Loss is 45.2927, Val Acc is 54.71%\n"
     ]
    },
    {
     "name": "stderr",
     "output_type": "stream",
     "text": [
      "100%|██████████| 7142/7142 [00:53<00:00, 133.79it/s, loss=3.54e+5]\n"
     ]
    },
    {
     "name": "stdout",
     "output_type": "stream",
     "text": [
      "Epoch 4/10, Training: Loss is 49.6231\n"
     ]
    },
    {
     "name": "stderr",
     "output_type": "stream",
     "text": [
      "100%|██████████| 2491/2491 [00:11<00:00, 209.58it/s, loss=1.13e+5]\n"
     ]
    },
    {
     "name": "stdout",
     "output_type": "stream",
     "text": [
      "Epoch 4/10, Validation: Loss is 45.2927, Val Acc is 54.71%\n",
      "🛑 Early stopping triggered at epoch 4\n",
      "\n",
      "🔁 Split 5 | Train years: [2001, 2002, 2003, 2004, 2005], Val: [2006, 2007], Test: [2008]\n"
     ]
    },
    {
     "name": "stderr",
     "output_type": "stream",
     "text": [
      "100%|██████████| 6532/6532 [00:48<00:00, 134.32it/s, loss=1.87e+4]\n"
     ]
    },
    {
     "name": "stdout",
     "output_type": "stream",
     "text": [
      "Epoch 1/10, Training: Loss is 2.8636\n"
     ]
    },
    {
     "name": "stderr",
     "output_type": "stream",
     "text": [
      "100%|██████████| 2521/2521 [00:11<00:00, 211.17it/s, loss=1.75e+3]\n"
     ]
    },
    {
     "name": "stdout",
     "output_type": "stream",
     "text": [
      "Epoch 1/10, Validation: Loss is 0.6927, Val Acc is 51.21%\n"
     ]
    },
    {
     "name": "stderr",
     "output_type": "stream",
     "text": [
      "100%|██████████| 6532/6532 [00:48<00:00, 134.15it/s, loss=4.51e+3]\n"
     ]
    },
    {
     "name": "stdout",
     "output_type": "stream",
     "text": [
      "Epoch 2/10, Training: Loss is 0.6901\n"
     ]
    },
    {
     "name": "stderr",
     "output_type": "stream",
     "text": [
      "100%|██████████| 2521/2521 [00:11<00:00, 211.82it/s, loss=1.75e+3]\n"
     ]
    },
    {
     "name": "stdout",
     "output_type": "stream",
     "text": [
      "Epoch 2/10, Validation: Loss is 0.6927, Val Acc is 51.41%\n"
     ]
    },
    {
     "name": "stderr",
     "output_type": "stream",
     "text": [
      "100%|██████████| 6532/6532 [00:48<00:00, 133.99it/s, loss=4.5e+3] \n"
     ]
    },
    {
     "name": "stdout",
     "output_type": "stream",
     "text": [
      "Epoch 3/10, Training: Loss is 0.6888\n"
     ]
    },
    {
     "name": "stderr",
     "output_type": "stream",
     "text": [
      "100%|██████████| 2521/2521 [00:11<00:00, 211.63it/s, loss=1.75e+3]\n"
     ]
    },
    {
     "name": "stdout",
     "output_type": "stream",
     "text": [
      "Epoch 3/10, Validation: Loss is 0.6949, Val Acc is 50.46%\n"
     ]
    },
    {
     "name": "stderr",
     "output_type": "stream",
     "text": [
      "100%|██████████| 6532/6532 [00:48<00:00, 133.72it/s, loss=4.49e+3]\n"
     ]
    },
    {
     "name": "stdout",
     "output_type": "stream",
     "text": [
      "Epoch 4/10, Training: Loss is 0.6875\n"
     ]
    },
    {
     "name": "stderr",
     "output_type": "stream",
     "text": [
      "100%|██████████| 2521/2521 [00:11<00:00, 210.33it/s, loss=1.76e+3]\n"
     ]
    },
    {
     "name": "stdout",
     "output_type": "stream",
     "text": [
      "Epoch 4/10, Validation: Loss is 0.6963, Val Acc is 50.66%\n"
     ]
    },
    {
     "name": "stderr",
     "output_type": "stream",
     "text": [
      "100%|██████████| 6532/6532 [00:48<00:00, 134.12it/s, loss=4.48e+3]\n"
     ]
    },
    {
     "name": "stdout",
     "output_type": "stream",
     "text": [
      "Epoch 5/10, Training: Loss is 0.6861\n"
     ]
    },
    {
     "name": "stderr",
     "output_type": "stream",
     "text": [
      "100%|██████████| 2521/2521 [00:11<00:00, 212.20it/s, loss=1.75e+3]\n"
     ]
    },
    {
     "name": "stdout",
     "output_type": "stream",
     "text": [
      "Epoch 5/10, Validation: Loss is 0.6944, Val Acc is 50.99%\n",
      "🛑 Early stopping triggered at epoch 5\n",
      "\n",
      "🔁 Split 6 | Train years: [2003, 2004, 2005, 2006, 2007], Val: [2008, 2009], Test: [2010]\n"
     ]
    },
    {
     "name": "stderr",
     "output_type": "stream",
     "text": [
      "100%|██████████| 6275/6275 [00:46<00:00, 134.18it/s, loss=1.03e+4]\n"
     ]
    },
    {
     "name": "stdout",
     "output_type": "stream",
     "text": [
      "Epoch 1/10, Training: Loss is 1.6411\n"
     ]
    },
    {
     "name": "stderr",
     "output_type": "stream",
     "text": [
      "100%|██████████| 2317/2317 [00:11<00:00, 210.59it/s, loss=1.61e+3]\n"
     ]
    },
    {
     "name": "stdout",
     "output_type": "stream",
     "text": [
      "Epoch 1/10, Validation: Loss is 0.6934, Val Acc is 51.12%\n"
     ]
    },
    {
     "name": "stderr",
     "output_type": "stream",
     "text": [
      "100%|██████████| 6275/6275 [00:46<00:00, 133.70it/s, loss=4.31e+3]\n"
     ]
    },
    {
     "name": "stdout",
     "output_type": "stream",
     "text": [
      "Epoch 2/10, Training: Loss is 0.6866\n"
     ]
    },
    {
     "name": "stderr",
     "output_type": "stream",
     "text": [
      "100%|██████████| 2317/2317 [00:11<00:00, 210.21it/s, loss=1.61e+3]\n"
     ]
    },
    {
     "name": "stdout",
     "output_type": "stream",
     "text": [
      "Epoch 2/10, Validation: Loss is 0.6944, Val Acc is 51.01%\n"
     ]
    },
    {
     "name": "stderr",
     "output_type": "stream",
     "text": [
      "100%|██████████| 6275/6275 [00:43<00:00, 143.32it/s, loss=4.29e+3]\n"
     ]
    },
    {
     "name": "stdout",
     "output_type": "stream",
     "text": [
      "Epoch 3/10, Training: Loss is 0.6840\n"
     ]
    },
    {
     "name": "stderr",
     "output_type": "stream",
     "text": [
      "100%|██████████| 2317/2317 [00:10<00:00, 211.41it/s, loss=1.61e+3]\n"
     ]
    },
    {
     "name": "stdout",
     "output_type": "stream",
     "text": [
      "Epoch 3/10, Validation: Loss is 0.6948, Val Acc is 51.97%\n"
     ]
    },
    {
     "name": "stderr",
     "output_type": "stream",
     "text": [
      "100%|██████████| 6275/6275 [00:44<00:00, 139.70it/s, loss=4.28e+3]\n"
     ]
    },
    {
     "name": "stdout",
     "output_type": "stream",
     "text": [
      "Epoch 4/10, Training: Loss is 0.6818\n"
     ]
    },
    {
     "name": "stderr",
     "output_type": "stream",
     "text": [
      "100%|██████████| 2317/2317 [00:11<00:00, 210.39it/s, loss=1.62e+3]\n"
     ]
    },
    {
     "name": "stdout",
     "output_type": "stream",
     "text": [
      "Epoch 4/10, Validation: Loss is 0.6985, Val Acc is 50.91%\n"
     ]
    },
    {
     "name": "stderr",
     "output_type": "stream",
     "text": [
      "100%|██████████| 6275/6275 [00:46<00:00, 133.97it/s, loss=4.27e+3]\n"
     ]
    },
    {
     "name": "stdout",
     "output_type": "stream",
     "text": [
      "Epoch 5/10, Training: Loss is 0.6797\n"
     ]
    },
    {
     "name": "stderr",
     "output_type": "stream",
     "text": [
      "100%|██████████| 2317/2317 [00:11<00:00, 210.46it/s, loss=1.62e+3]\n"
     ]
    },
    {
     "name": "stdout",
     "output_type": "stream",
     "text": [
      "Epoch 5/10, Validation: Loss is 0.6984, Val Acc is 49.38%\n"
     ]
    },
    {
     "name": "stderr",
     "output_type": "stream",
     "text": [
      "100%|██████████| 6275/6275 [00:46<00:00, 133.76it/s, loss=4.25e+3]\n"
     ]
    },
    {
     "name": "stdout",
     "output_type": "stream",
     "text": [
      "Epoch 6/10, Training: Loss is 0.6773\n"
     ]
    },
    {
     "name": "stderr",
     "output_type": "stream",
     "text": [
      "100%|██████████| 2317/2317 [00:10<00:00, 212.01it/s, loss=1.62e+3]\n"
     ]
    },
    {
     "name": "stdout",
     "output_type": "stream",
     "text": [
      "Epoch 6/10, Validation: Loss is 0.6982, Val Acc is 51.20%\n",
      "🛑 Early stopping triggered at epoch 6\n",
      "\n",
      "🔁 Split 7 | Train years: [2005, 2006, 2007, 2008, 2009], Val: [2010, 2011], Test: [2012]\n"
     ]
    },
    {
     "name": "stderr",
     "output_type": "stream",
     "text": [
      "100%|██████████| 6085/6085 [00:45<00:00, 133.56it/s, loss=3.03e+5]\n"
     ]
    },
    {
     "name": "stdout",
     "output_type": "stream",
     "text": [
      "Epoch 1/10, Training: Loss is 49.8165\n"
     ]
    },
    {
     "name": "stderr",
     "output_type": "stream",
     "text": [
      "100%|██████████| 2117/2117 [00:10<00:00, 211.39it/s, loss=1.03e+5]\n"
     ]
    },
    {
     "name": "stdout",
     "output_type": "stream",
     "text": [
      "Epoch 1/10, Validation: Loss is 48.4402, Val Acc is 51.57%\n"
     ]
    },
    {
     "name": "stderr",
     "output_type": "stream",
     "text": [
      "100%|██████████| 6085/6085 [00:45<00:00, 133.87it/s, loss=3.03e+5]\n"
     ]
    },
    {
     "name": "stdout",
     "output_type": "stream",
     "text": [
      "Epoch 2/10, Training: Loss is 49.8301\n"
     ]
    },
    {
     "name": "stderr",
     "output_type": "stream",
     "text": [
      "100%|██████████| 2117/2117 [00:10<00:00, 211.50it/s, loss=1.03e+5]\n"
     ]
    },
    {
     "name": "stdout",
     "output_type": "stream",
     "text": [
      "Epoch 2/10, Validation: Loss is 48.4402, Val Acc is 51.57%\n"
     ]
    },
    {
     "name": "stderr",
     "output_type": "stream",
     "text": [
      "100%|██████████| 6085/6085 [00:45<00:00, 133.63it/s, loss=3.03e+5]\n"
     ]
    },
    {
     "name": "stdout",
     "output_type": "stream",
     "text": [
      "Epoch 3/10, Training: Loss is 49.8300\n"
     ]
    },
    {
     "name": "stderr",
     "output_type": "stream",
     "text": [
      "100%|██████████| 2117/2117 [00:10<00:00, 210.52it/s, loss=1.03e+5]\n"
     ]
    },
    {
     "name": "stdout",
     "output_type": "stream",
     "text": [
      "Epoch 3/10, Validation: Loss is 48.4402, Val Acc is 51.57%\n"
     ]
    },
    {
     "name": "stderr",
     "output_type": "stream",
     "text": [
      "100%|██████████| 6085/6085 [00:45<00:00, 133.55it/s, loss=3.03e+5]\n"
     ]
    },
    {
     "name": "stdout",
     "output_type": "stream",
     "text": [
      "Epoch 4/10, Training: Loss is 49.8302\n"
     ]
    },
    {
     "name": "stderr",
     "output_type": "stream",
     "text": [
      "100%|██████████| 2117/2117 [00:10<00:00, 210.26it/s, loss=1.03e+5]\n"
     ]
    },
    {
     "name": "stdout",
     "output_type": "stream",
     "text": [
      "Epoch 4/10, Validation: Loss is 48.4402, Val Acc is 51.57%\n",
      "🛑 Early stopping triggered at epoch 4\n",
      "\n",
      "🔁 Split 8 | Train years: [2007, 2008, 2009, 2010, 2011], Val: [2012, 2013], Test: [2014]\n"
     ]
    },
    {
     "name": "stderr",
     "output_type": "stream",
     "text": [
      "100%|██████████| 5701/5701 [00:42<00:00, 134.05it/s, loss=6.79e+4]\n"
     ]
    },
    {
     "name": "stdout",
     "output_type": "stream",
     "text": [
      "Epoch 1/10, Training: Loss is 11.9073\n"
     ]
    },
    {
     "name": "stderr",
     "output_type": "stream",
     "text": [
      "100%|██████████| 2059/2059 [00:09<00:00, 210.71it/s, loss=1.44e+3]\n"
     ]
    },
    {
     "name": "stdout",
     "output_type": "stream",
     "text": [
      "Epoch 1/10, Validation: Loss is 0.7004, Val Acc is 49.96%\n"
     ]
    },
    {
     "name": "stderr",
     "output_type": "stream",
     "text": [
      "100%|██████████| 5701/5701 [00:42<00:00, 134.02it/s, loss=3.91e+3]\n"
     ]
    },
    {
     "name": "stdout",
     "output_type": "stream",
     "text": [
      "Epoch 2/10, Training: Loss is 0.6852\n"
     ]
    },
    {
     "name": "stderr",
     "output_type": "stream",
     "text": [
      "100%|██████████| 2059/2059 [00:09<00:00, 211.36it/s, loss=1.45e+3]\n"
     ]
    },
    {
     "name": "stdout",
     "output_type": "stream",
     "text": [
      "Epoch 2/10, Validation: Loss is 0.7026, Val Acc is 49.81%\n"
     ]
    },
    {
     "name": "stderr",
     "output_type": "stream",
     "text": [
      "100%|██████████| 5701/5701 [00:42<00:00, 133.84it/s, loss=3.9e+3] \n"
     ]
    },
    {
     "name": "stdout",
     "output_type": "stream",
     "text": [
      "Epoch 3/10, Training: Loss is 0.6842\n"
     ]
    },
    {
     "name": "stderr",
     "output_type": "stream",
     "text": [
      "100%|██████████| 2059/2059 [00:09<00:00, 211.37it/s, loss=1.45e+3]\n"
     ]
    },
    {
     "name": "stdout",
     "output_type": "stream",
     "text": [
      "Epoch 3/10, Validation: Loss is 0.7048, Val Acc is 49.48%\n"
     ]
    },
    {
     "name": "stderr",
     "output_type": "stream",
     "text": [
      "100%|██████████| 5701/5701 [00:42<00:00, 133.63it/s, loss=3.9e+3] \n"
     ]
    },
    {
     "name": "stdout",
     "output_type": "stream",
     "text": [
      "Epoch 4/10, Training: Loss is 0.6834\n"
     ]
    },
    {
     "name": "stderr",
     "output_type": "stream",
     "text": [
      "100%|██████████| 2059/2059 [00:09<00:00, 210.50it/s, loss=1.45e+3]\n"
     ]
    },
    {
     "name": "stdout",
     "output_type": "stream",
     "text": [
      "Epoch 4/10, Validation: Loss is 0.7036, Val Acc is 49.61%\n",
      "🛑 Early stopping triggered at epoch 4\n",
      "\n",
      "🔁 Split 9 | Train years: [2009, 2010, 2011, 2012, 2013], Val: [2014, 2015], Test: [2016]\n"
     ]
    },
    {
     "name": "stderr",
     "output_type": "stream",
     "text": [
      "100%|██████████| 5270/5270 [00:39<00:00, 133.46it/s, loss=2.47e+5]\n"
     ]
    },
    {
     "name": "stdout",
     "output_type": "stream",
     "text": [
      "Epoch 1/10, Training: Loss is 46.8202\n"
     ]
    },
    {
     "name": "stderr",
     "output_type": "stream",
     "text": [
      "100%|██████████| 2128/2128 [00:10<00:00, 210.62it/s, loss=1.14e+5]\n"
     ]
    },
    {
     "name": "stdout",
     "output_type": "stream",
     "text": [
      "Epoch 1/10, Validation: Loss is 53.6507, Val Acc is 46.37%\n"
     ]
    },
    {
     "name": "stderr",
     "output_type": "stream",
     "text": [
      "100%|██████████| 5270/5270 [00:39<00:00, 133.66it/s, loss=2.47e+5]\n"
     ]
    },
    {
     "name": "stdout",
     "output_type": "stream",
     "text": [
      "Epoch 2/10, Training: Loss is 46.8248\n"
     ]
    },
    {
     "name": "stderr",
     "output_type": "stream",
     "text": [
      "100%|██████████| 2128/2128 [00:10<00:00, 210.63it/s, loss=1.14e+5]\n"
     ]
    },
    {
     "name": "stdout",
     "output_type": "stream",
     "text": [
      "Epoch 2/10, Validation: Loss is 53.6507, Val Acc is 46.37%\n"
     ]
    },
    {
     "name": "stderr",
     "output_type": "stream",
     "text": [
      "100%|██████████| 5270/5270 [00:39<00:00, 133.67it/s, loss=2.47e+5]\n"
     ]
    },
    {
     "name": "stdout",
     "output_type": "stream",
     "text": [
      "Epoch 3/10, Training: Loss is 46.8224\n"
     ]
    },
    {
     "name": "stderr",
     "output_type": "stream",
     "text": [
      "100%|██████████| 2128/2128 [00:10<00:00, 210.64it/s, loss=1.14e+5]\n"
     ]
    },
    {
     "name": "stdout",
     "output_type": "stream",
     "text": [
      "Epoch 3/10, Validation: Loss is 53.6507, Val Acc is 46.37%\n"
     ]
    },
    {
     "name": "stderr",
     "output_type": "stream",
     "text": [
      "100%|██████████| 5270/5270 [00:36<00:00, 142.47it/s, loss=2.47e+5]\n"
     ]
    },
    {
     "name": "stdout",
     "output_type": "stream",
     "text": [
      "Epoch 4/10, Training: Loss is 46.8224\n"
     ]
    },
    {
     "name": "stderr",
     "output_type": "stream",
     "text": [
      "100%|██████████| 2128/2128 [00:10<00:00, 211.29it/s, loss=1.14e+5]\n"
     ]
    },
    {
     "name": "stdout",
     "output_type": "stream",
     "text": [
      "Epoch 4/10, Validation: Loss is 53.6507, Val Acc is 46.37%\n",
      "🛑 Early stopping triggered at epoch 4\n",
      "\n",
      "🔁 Split 10 | Train years: [2011, 2012, 2013, 2014, 2015], Val: [2016, 2017], Test: [2018]\n"
     ]
    },
    {
     "name": "stderr",
     "output_type": "stream",
     "text": [
      "100%|██████████| 5238/5238 [00:36<00:00, 142.75it/s, loss=4.03e+3]\n"
     ]
    },
    {
     "name": "stdout",
     "output_type": "stream",
     "text": [
      "Epoch 1/10, Training: Loss is 0.7698\n"
     ]
    },
    {
     "name": "stderr",
     "output_type": "stream",
     "text": [
      "100%|██████████| 2125/2125 [00:10<00:00, 211.56it/s, loss=1.48e+3]\n"
     ]
    },
    {
     "name": "stdout",
     "output_type": "stream",
     "text": [
      "Epoch 1/10, Validation: Loss is 0.6948, Val Acc is 49.04%\n"
     ]
    },
    {
     "name": "stderr",
     "output_type": "stream",
     "text": [
      "100%|██████████| 5238/5238 [00:36<00:00, 143.28it/s, loss=3.6e+3] \n"
     ]
    },
    {
     "name": "stdout",
     "output_type": "stream",
     "text": [
      "Epoch 2/10, Training: Loss is 0.6879\n"
     ]
    },
    {
     "name": "stderr",
     "output_type": "stream",
     "text": [
      "100%|██████████| 2125/2125 [00:09<00:00, 213.58it/s, loss=1.48e+3]\n"
     ]
    },
    {
     "name": "stdout",
     "output_type": "stream",
     "text": [
      "Epoch 2/10, Validation: Loss is 0.6969, Val Acc is 49.36%\n"
     ]
    },
    {
     "name": "stderr",
     "output_type": "stream",
     "text": [
      "100%|██████████| 5238/5238 [00:36<00:00, 143.11it/s, loss=3.58e+3]\n"
     ]
    },
    {
     "name": "stdout",
     "output_type": "stream",
     "text": [
      "Epoch 3/10, Training: Loss is 0.6834\n"
     ]
    },
    {
     "name": "stderr",
     "output_type": "stream",
     "text": [
      "100%|██████████| 2125/2125 [00:10<00:00, 212.07it/s, loss=1.48e+3]\n"
     ]
    },
    {
     "name": "stdout",
     "output_type": "stream",
     "text": [
      "Epoch 3/10, Validation: Loss is 0.6980, Val Acc is 49.27%\n"
     ]
    },
    {
     "name": "stderr",
     "output_type": "stream",
     "text": [
      "100%|██████████| 5238/5238 [00:37<00:00, 139.79it/s, loss=3.55e+3]\n"
     ]
    },
    {
     "name": "stdout",
     "output_type": "stream",
     "text": [
      "Epoch 4/10, Training: Loss is 0.6778\n"
     ]
    },
    {
     "name": "stderr",
     "output_type": "stream",
     "text": [
      "100%|██████████| 2125/2125 [00:10<00:00, 212.18it/s, loss=1.49e+3]\n"
     ]
    },
    {
     "name": "stdout",
     "output_type": "stream",
     "text": [
      "Epoch 4/10, Validation: Loss is 0.7029, Val Acc is 49.47%\n"
     ]
    },
    {
     "name": "stderr",
     "output_type": "stream",
     "text": [
      "100%|██████████| 5238/5238 [00:36<00:00, 143.66it/s, loss=3.53e+3]\n"
     ]
    },
    {
     "name": "stdout",
     "output_type": "stream",
     "text": [
      "Epoch 5/10, Training: Loss is 0.6738\n"
     ]
    },
    {
     "name": "stderr",
     "output_type": "stream",
     "text": [
      "100%|██████████| 2125/2125 [00:09<00:00, 212.71it/s, loss=1.49e+3]\n"
     ]
    },
    {
     "name": "stdout",
     "output_type": "stream",
     "text": [
      "Epoch 5/10, Validation: Loss is 0.6988, Val Acc is 49.17%\n"
     ]
    },
    {
     "name": "stderr",
     "output_type": "stream",
     "text": [
      "100%|██████████| 5238/5238 [00:37<00:00, 137.94it/s, loss=3.51e+3]\n"
     ]
    },
    {
     "name": "stdout",
     "output_type": "stream",
     "text": [
      "Epoch 6/10, Training: Loss is 0.6706\n"
     ]
    },
    {
     "name": "stderr",
     "output_type": "stream",
     "text": [
      "100%|██████████| 2125/2125 [00:10<00:00, 211.60it/s, loss=1.51e+3]\n"
     ]
    },
    {
     "name": "stdout",
     "output_type": "stream",
     "text": [
      "Epoch 6/10, Validation: Loss is 0.7101, Val Acc is 48.63%\n"
     ]
    },
    {
     "name": "stderr",
     "output_type": "stream",
     "text": [
      "100%|██████████| 5238/5238 [00:39<00:00, 134.23it/s, loss=3.5e+3] \n"
     ]
    },
    {
     "name": "stdout",
     "output_type": "stream",
     "text": [
      "Epoch 7/10, Training: Loss is 0.6683\n"
     ]
    },
    {
     "name": "stderr",
     "output_type": "stream",
     "text": [
      "100%|██████████| 2125/2125 [00:10<00:00, 211.09it/s, loss=1.49e+3]\n"
     ]
    },
    {
     "name": "stdout",
     "output_type": "stream",
     "text": [
      "Epoch 7/10, Validation: Loss is 0.7001, Val Acc is 49.51%\n"
     ]
    },
    {
     "name": "stderr",
     "output_type": "stream",
     "text": [
      "100%|██████████| 5238/5238 [00:39<00:00, 134.16it/s, loss=3.49e+3]\n"
     ]
    },
    {
     "name": "stdout",
     "output_type": "stream",
     "text": [
      "Epoch 8/10, Training: Loss is 0.6659\n"
     ]
    },
    {
     "name": "stderr",
     "output_type": "stream",
     "text": [
      "100%|██████████| 2125/2125 [00:10<00:00, 211.58it/s, loss=1.49e+3]\n"
     ]
    },
    {
     "name": "stdout",
     "output_type": "stream",
     "text": [
      "Epoch 8/10, Validation: Loss is 0.7033, Val Acc is 48.55%\n"
     ]
    },
    {
     "name": "stderr",
     "output_type": "stream",
     "text": [
      "100%|██████████| 5238/5238 [00:39<00:00, 133.76it/s, loss=3.48e+3]\n"
     ]
    },
    {
     "name": "stdout",
     "output_type": "stream",
     "text": [
      "Epoch 9/10, Training: Loss is 0.6645\n"
     ]
    },
    {
     "name": "stderr",
     "output_type": "stream",
     "text": [
      "100%|██████████| 2125/2125 [00:10<00:00, 210.63it/s, loss=1.49e+3]\n"
     ]
    },
    {
     "name": "stdout",
     "output_type": "stream",
     "text": [
      "Epoch 9/10, Validation: Loss is 0.7011, Val Acc is 49.13%\n"
     ]
    },
    {
     "name": "stderr",
     "output_type": "stream",
     "text": [
      "100%|██████████| 5238/5238 [00:39<00:00, 133.72it/s, loss=3.47e+3]\n"
     ]
    },
    {
     "name": "stdout",
     "output_type": "stream",
     "text": [
      "Epoch 10/10, Training: Loss is 0.6625\n"
     ]
    },
    {
     "name": "stderr",
     "output_type": "stream",
     "text": [
      "100%|██████████| 2125/2125 [00:10<00:00, 210.05it/s, loss=1.51e+3]"
     ]
    },
    {
     "name": "stdout",
     "output_type": "stream",
     "text": [
      "Epoch 10/10, Validation: Loss is 0.7116, Val Acc is 49.15%\n",
      "🛑 Early stopping triggered at epoch 10\n"
     ]
    },
    {
     "name": "stderr",
     "output_type": "stream",
     "text": [
      "\n"
     ]
    }
   ],
   "source": [
    "num_epochs = 10\n",
    "patience = 3  # Early stopping patience\n",
    "base_losses_per_split = OrderedDict()  # Track losses per split\n",
    "# best_val_acc_all_splits = 0.0  # Track the best validation accuracy across all splits\n",
    "# best_model_path_all_splits = (\n",
    "#     \"best_model_all_splits.pth\"  # Path to save overall best model\n",
    "# )\n",
    "\n",
    "\n",
    "def init_weights(m):\n",
    "    \"\"\"Apply Xavier uniform initialization to linear and convolutional layers.\"\"\"\n",
    "    if isinstance(m, (nn.Linear, nn.Conv2d)):\n",
    "        nn.init.xavier_uniform_(m.weight)\n",
    "        if m.bias is not None:\n",
    "            nn.init.zeros_(m.bias)\n",
    "\n",
    "\n",
    "for i, split in enumerate(splits):\n",
    "    print(\n",
    "        f\"\\n🔁 Split {i+1} | Train years: {split['years']['train']}, \"\n",
    "        f\"Val: {split['years']['val']}, Test: {split['years']['test']}\"\n",
    "    )\n",
    "    train_loader = split[\"train_loader\"]\n",
    "    val_loader = split[\"val_loader\"]\n",
    "    test_loader = split[\"test_loader\"]\n",
    "\n",
    "    # Initialize model, loss, optimizer\n",
    "    model = StockNet().to(device)\n",
    "    model.apply(init_weights)  # Apply Xavier initialization\n",
    "    criterion = nn.BCELoss()\n",
    "    optimizer = optim.Adam(model.parameters(), lr=0.001)\n",
    "\n",
    "    best_val_acc = 0.0\n",
    "    epochs_no_improve = 0\n",
    "    base_epoch_losses = OrderedDict()  # Store losses for this split\n",
    "\n",
    "    for epoch in range(num_epochs):\n",
    "        # Training phase\n",
    "        training_loss = training(train_loader, model, criterion, optimizer)\n",
    "        print(f\"Epoch {epoch+1}/{num_epochs}, Training: Loss is {training_loss:.4f}\")\n",
    "\n",
    "        # Validation phase\n",
    "        val_loss, val_acc = validation(val_loader, model, criterion)\n",
    "        print(\n",
    "            f\"Epoch {epoch+1}/{num_epochs}, Validation: Loss is {val_loss:.4f}, Val Acc is {val_acc:.2f}%\"\n",
    "        )\n",
    "        # Save training and validation losses for this epoch\n",
    "        base_epoch_losses[f\"Epoch {epoch + 1}\"] = {\n",
    "            \"train_loss\": training_loss,\n",
    "            \"val_loss\": val_loss,\n",
    "            \"val_acc\": val_acc,\n",
    "        }\n",
    "\n",
    "        # # update the best model over all splits\n",
    "        # if val_acc > best_val_acc_all_splits:\n",
    "        #     best_val_acc_all_splits = val_acc\n",
    "        #     torch.save(model.state_dict(), best_model_path_all_splits)\n",
    "        #     print(f\"💾 Updated overall best model at epoch {epoch+1}\")\n",
    "\n",
    "        # Check for early stopping\n",
    "        if val_acc > best_val_acc:\n",
    "            best_val_acc = val_acc\n",
    "            epochs_no_improve = 0\n",
    "            # best_epoch_path = f\"best_model_split_{i+1}.pth\"\n",
    "            # torch.save(model.state_dict(), best_epoch_path)\n",
    "            # print(f\"💾 Updated current split best model at epoch {epoch+1}\")\n",
    "        else:\n",
    "            epochs_no_improve += 1\n",
    "\n",
    "        if epochs_no_improve >= patience:\n",
    "            print(f\"🛑 Early stopping triggered at epoch {epoch+1}\")\n",
    "            break\n",
    "\n",
    "    # Store the losses for this split in the main dictionary\n",
    "    base_losses_per_split[f\"Split {i+1}\"] = base_epoch_losses\n",
    "\n",
    "    # # Final test set evaluation\n",
    "    # model.load_state_dict(torch.load(best_epoch_path))  # Load best model\n",
    "    # model.eval()\n",
    "    # test_correct, test_total = 0, 0\n",
    "    # with torch.no_grad():\n",
    "    #     for inputs, labels in test_loader:\n",
    "    #         inputs, labels = inputs.to(device), labels.to(device)\n",
    "    #         outputs = model(inputs).squeeze(1)\n",
    "    #         # predicted = (outputs > 0.5).float()\n",
    "    #         predicted = torch.argmax(outputs, dim=1)\n",
    "    #         test_total += labels.size(0)\n",
    "    #         test_correct += (predicted == labels).sum().item()\n",
    "\n",
    "    # test_acc = 100 * test_correct / test_total\n",
    "    # print(\n",
    "    #     f\"✅ Split {i+1} | Best Val Accuracy: {best_val_acc:.2f}% | Test Accuracy: {test_acc:.2f}%\"\n",
    "    # )"
   ]
  },
  {
   "cell_type": "code",
   "execution_count": 21,
   "metadata": {},
   "outputs": [
    {
     "data": {
      "text/plain": [
       "OrderedDict([('Epoch 1',\n",
       "              {'train_loss': 0.7698492244506164,\n",
       "               'val_loss': 0.6947729001886704,\n",
       "               'val_acc': 49.0437429686983}),\n",
       "             ('Epoch 2',\n",
       "              {'train_loss': 0.6879452732670803,\n",
       "               'val_loss': 0.6968765892982483,\n",
       "               'val_acc': 49.363598261751925}),\n",
       "             ('Epoch 3',\n",
       "              {'train_loss': 0.6833959567087122,\n",
       "               'val_loss': 0.6980391525380751,\n",
       "               'val_acc': 49.273156420267796}),\n",
       "             ('Epoch 4',\n",
       "              {'train_loss': 0.6778349942631192,\n",
       "               'val_loss': 0.7028531538458431,\n",
       "               'val_acc': 49.47462848991537}),\n",
       "             ('Epoch 5',\n",
       "              {'train_loss': 0.6737614647265198,\n",
       "               'val_loss': 0.6988243921504301,\n",
       "               'val_acc': 49.17242038544401}),\n",
       "             ('Epoch 6',\n",
       "              {'train_loss': 0.6706118877605884,\n",
       "               'val_loss': 0.7100905987515169,\n",
       "               'val_acc': 48.62682813844219}),\n",
       "             ('Epoch 7',\n",
       "              {'train_loss': 0.6682947077406141,\n",
       "               'val_loss': 0.7001030823483186,\n",
       "               'val_acc': 49.51212876565269}),\n",
       "             ('Epoch 8',\n",
       "              {'train_loss': 0.6659264931609586,\n",
       "               'val_loss': 0.7032778598000021,\n",
       "               'val_acc': 48.554768785064596}),\n",
       "             ('Epoch 9',\n",
       "              {'train_loss': 0.6645200123605768,\n",
       "               'val_loss': 0.7010907105277566,\n",
       "               'val_acc': 49.12683181493981}),\n",
       "             ('Epoch 10',\n",
       "              {'train_loss': 0.6624821462491033,\n",
       "               'val_loss': 0.7115678979368771,\n",
       "               'val_acc': 49.14668490209487})])"
      ]
     },
     "execution_count": 21,
     "metadata": {},
     "output_type": "execute_result"
    }
   ],
   "source": [
    "base_epoch_losses"
   ]
  },
  {
   "cell_type": "code",
   "execution_count": 25,
   "metadata": {},
   "outputs": [],
   "source": [
    "file_path = \"base_losses_per_split.json\"\n",
    "with open(file_path, \"w\") as f:\n",
    "    json.dump(base_losses_per_split, f, indent=4)"
   ]
  },
  {
   "cell_type": "markdown",
   "metadata": {},
   "source": [
    "## CNN model training - paper\n",
    "Jiang, J., Kelly, B. T., & Xiu, D. (2020). (Re-)Imag(in)ing Price Trends (SSRN Scholarly Paper No. 3756587). Social Science Research Network. https://doi.org/10.2139/ssrn.3756587\n"
   ]
  },
  {
   "cell_type": "code",
   "execution_count": 16,
   "metadata": {},
   "outputs": [],
   "source": [
    "class PaperNet(nn.Module):\n",
    "    def __init__(self):\n",
    "        super(PaperNet, self).__init__()\n",
    "        self.layer1 = nn.Sequential(\n",
    "            nn.Conv2d(\n",
    "                1,\n",
    "                64,\n",
    "                kernel_size=(5, 3),\n",
    "                stride=(3, 1),\n",
    "                dilation=(2, 1),\n",
    "                padding=(12, 1),\n",
    "            ),\n",
    "            nn.BatchNorm2d(64),\n",
    "            nn.LeakyReLU(negative_slope=0.01, inplace=True),\n",
    "            nn.MaxPool2d(kernel_size=(2, 1), stride=(2, 1)),\n",
    "        )\n",
    "\n",
    "        self.layer2 = nn.Sequential(\n",
    "            nn.Conv2d(\n",
    "                64,\n",
    "                128,\n",
    "                kernel_size=(5, 3),\n",
    "                stride=(3, 1),\n",
    "                dilation=(2, 1),\n",
    "                padding=(12, 1),\n",
    "            ),\n",
    "            nn.BatchNorm2d(128),\n",
    "            nn.LeakyReLU(negative_slope=0.01, inplace=True),\n",
    "            nn.MaxPool2d(kernel_size=(2, 1), stride=(2, 1)),\n",
    "        )\n",
    "\n",
    "        self.layer3 = nn.Sequential(\n",
    "            nn.Conv2d(\n",
    "                128,\n",
    "                256,\n",
    "                kernel_size=(5, 3),\n",
    "                stride=(3, 1),\n",
    "                dilation=(2, 1),\n",
    "                padding=(12, 1),\n",
    "            ),\n",
    "            nn.BatchNorm2d(256),\n",
    "            nn.LeakyReLU(negative_slope=0.01, inplace=True),\n",
    "            nn.MaxPool2d(kernel_size=(2, 1), stride=(2, 1)),\n",
    "        )\n",
    "\n",
    "        self.fc1 = nn.Sequential(\n",
    "            nn.Dropout(0.5),\n",
    "            nn.Linear(46080, 2),\n",
    "        )\n",
    "\n",
    "        self.softmax = nn.Softmax(dim=1)\n",
    "\n",
    "    def forward(self, x):\n",
    "        x = x.reshape(-1, 1, 64, 60)\n",
    "        x = self.layer1(x)\n",
    "        x = self.layer2(x)\n",
    "        x = self.layer3(x)\n",
    "        x = x.view(-1, 46080)\n",
    "        x = self.fc1(x)\n",
    "        return x"
   ]
  },
  {
   "cell_type": "code",
   "execution_count": 17,
   "metadata": {},
   "outputs": [
    {
     "name": "stdout",
     "output_type": "stream",
     "text": [
      "\n",
      "🔁 Split 1 | Train years: [1993, 1994, 1995, 1996, 1997], Val: [1998, 1999], Test: [2000]\n"
     ]
    },
    {
     "name": "stderr",
     "output_type": "stream",
     "text": [
      "100%|██████████| 7632/7632 [01:39<00:00, 76.37it/s, loss=5.52e+3]\n"
     ]
    },
    {
     "name": "stdout",
     "output_type": "stream",
     "text": [
      "Epoch 1/10, Training: Loss is 0.7234\n"
     ]
    },
    {
     "name": "stderr",
     "output_type": "stream",
     "text": [
      "100%|██████████| 3227/3227 [00:19<00:00, 166.04it/s, loss=2.22e+3]\n"
     ]
    },
    {
     "name": "stdout",
     "output_type": "stream",
     "text": [
      "Epoch 1/10, Validation: Loss is 0.6883, Val Acc is 54.47%\n",
      "💾 Updated overall best model at epoch 1\n",
      "💾 Updated current split best model at epoch 1\n"
     ]
    },
    {
     "name": "stderr",
     "output_type": "stream",
     "text": [
      "100%|██████████| 7632/7632 [01:42<00:00, 74.18it/s, loss=5.18e+3]\n"
     ]
    },
    {
     "name": "stdout",
     "output_type": "stream",
     "text": [
      "Epoch 2/10, Training: Loss is 0.6782\n"
     ]
    },
    {
     "name": "stderr",
     "output_type": "stream",
     "text": [
      "100%|██████████| 3227/3227 [00:20<00:00, 161.01it/s, loss=2.24e+3]\n"
     ]
    },
    {
     "name": "stdout",
     "output_type": "stream",
     "text": [
      "Epoch 2/10, Validation: Loss is 0.6937, Val Acc is 54.26%\n"
     ]
    },
    {
     "name": "stderr",
     "output_type": "stream",
     "text": [
      "100%|██████████| 7632/7632 [01:46<00:00, 71.47it/s, loss=5.16e+3]\n"
     ]
    },
    {
     "name": "stdout",
     "output_type": "stream",
     "text": [
      "Epoch 3/10, Training: Loss is 0.6758\n"
     ]
    },
    {
     "name": "stderr",
     "output_type": "stream",
     "text": [
      "100%|██████████| 3227/3227 [00:20<00:00, 160.63it/s, loss=2.21e+3]\n"
     ]
    },
    {
     "name": "stdout",
     "output_type": "stream",
     "text": [
      "Epoch 3/10, Validation: Loss is 0.6841, Val Acc is 55.02%\n",
      "💾 Updated overall best model at epoch 3\n",
      "💾 Updated current split best model at epoch 3\n"
     ]
    },
    {
     "name": "stderr",
     "output_type": "stream",
     "text": [
      "100%|██████████| 7632/7632 [01:46<00:00, 71.40it/s, loss=5.15e+3]\n"
     ]
    },
    {
     "name": "stdout",
     "output_type": "stream",
     "text": [
      "Epoch 4/10, Training: Loss is 0.6744\n"
     ]
    },
    {
     "name": "stderr",
     "output_type": "stream",
     "text": [
      "100%|██████████| 3227/3227 [00:20<00:00, 160.12it/s, loss=2.27e+3]\n"
     ]
    },
    {
     "name": "stdout",
     "output_type": "stream",
     "text": [
      "Epoch 4/10, Validation: Loss is 0.7037, Val Acc is 51.71%\n"
     ]
    },
    {
     "name": "stderr",
     "output_type": "stream",
     "text": [
      "100%|██████████| 7632/7632 [01:43<00:00, 73.89it/s, loss=5.14e+3]\n"
     ]
    },
    {
     "name": "stdout",
     "output_type": "stream",
     "text": [
      "Epoch 5/10, Training: Loss is 0.6737\n"
     ]
    },
    {
     "name": "stderr",
     "output_type": "stream",
     "text": [
      "100%|██████████| 3227/3227 [00:19<00:00, 164.41it/s, loss=2.2e+3] \n"
     ]
    },
    {
     "name": "stdout",
     "output_type": "stream",
     "text": [
      "Epoch 5/10, Validation: Loss is 0.6818, Val Acc is 55.99%\n",
      "💾 Updated overall best model at epoch 5\n",
      "💾 Updated current split best model at epoch 5\n"
     ]
    },
    {
     "name": "stderr",
     "output_type": "stream",
     "text": [
      "100%|██████████| 7632/7632 [01:44<00:00, 73.13it/s, loss=5.13e+3]\n"
     ]
    },
    {
     "name": "stdout",
     "output_type": "stream",
     "text": [
      "Epoch 6/10, Training: Loss is 0.6728\n"
     ]
    },
    {
     "name": "stderr",
     "output_type": "stream",
     "text": [
      "100%|██████████| 3227/3227 [00:19<00:00, 162.14it/s, loss=2.21e+3]\n"
     ]
    },
    {
     "name": "stdout",
     "output_type": "stream",
     "text": [
      "Epoch 6/10, Validation: Loss is 0.6843, Val Acc is 55.25%\n"
     ]
    },
    {
     "name": "stderr",
     "output_type": "stream",
     "text": [
      "100%|██████████| 7632/7632 [01:41<00:00, 75.30it/s, loss=5.13e+3]\n"
     ]
    },
    {
     "name": "stdout",
     "output_type": "stream",
     "text": [
      "Epoch 7/10, Training: Loss is 0.6721\n"
     ]
    },
    {
     "name": "stderr",
     "output_type": "stream",
     "text": [
      "100%|██████████| 3227/3227 [00:20<00:00, 160.74it/s, loss=2.21e+3]\n"
     ]
    },
    {
     "name": "stdout",
     "output_type": "stream",
     "text": [
      "Epoch 7/10, Validation: Loss is 0.6836, Val Acc is 55.18%\n"
     ]
    },
    {
     "name": "stderr",
     "output_type": "stream",
     "text": [
      "100%|██████████| 7632/7632 [01:46<00:00, 71.41it/s, loss=5.13e+3]\n"
     ]
    },
    {
     "name": "stdout",
     "output_type": "stream",
     "text": [
      "Epoch 8/10, Training: Loss is 0.6717\n"
     ]
    },
    {
     "name": "stderr",
     "output_type": "stream",
     "text": [
      "100%|██████████| 3227/3227 [00:20<00:00, 160.68it/s, loss=2.23e+3]\n",
      "/tmp/ipykernel_67273/1184059962.py:78: FutureWarning: You are using `torch.load` with `weights_only=False` (the current default value), which uses the default pickle module implicitly. It is possible to construct malicious pickle data which will execute arbitrary code during unpickling (See https://github.com/pytorch/pytorch/blob/main/SECURITY.md#untrusted-models for more details). In a future release, the default value for `weights_only` will be flipped to `True`. This limits the functions that could be executed during unpickling. Arbitrary objects will no longer be allowed to be loaded via this mode unless they are explicitly allowlisted by the user via `torch.serialization.add_safe_globals`. We recommend you start setting `weights_only=True` for any use case where you don't have full control of the loaded file. Please open an issue on GitHub for any issues related to this experimental feature.\n",
      "  model.load_state_dict(torch.load(best_epoch_path))  # Load best model\n"
     ]
    },
    {
     "name": "stdout",
     "output_type": "stream",
     "text": [
      "Epoch 8/10, Validation: Loss is 0.6923, Val Acc is 54.09%\n",
      "🛑 Early stopping triggered at epoch 8\n",
      "✅ Split 1 | Best Val Accuracy: 55.99% | Test Accuracy: 55.81%\n",
      "\n",
      "🔁 Split 2 | Train years: [1995, 1996, 1997, 1998, 1999], Val: [2000, 2001], Test: [2002]\n"
     ]
    },
    {
     "name": "stderr",
     "output_type": "stream",
     "text": [
      "100%|██████████| 8039/8039 [01:52<00:00, 71.53it/s, loss=5.89e+3]\n"
     ]
    },
    {
     "name": "stdout",
     "output_type": "stream",
     "text": [
      "Epoch 1/10, Training: Loss is 0.7326\n"
     ]
    },
    {
     "name": "stderr",
     "output_type": "stream",
     "text": [
      "100%|██████████| 2971/2971 [00:18<00:00, 160.13it/s, loss=2.04e+3]\n"
     ]
    },
    {
     "name": "stdout",
     "output_type": "stream",
     "text": [
      "Epoch 1/10, Validation: Loss is 0.6864, Val Acc is 54.80%\n",
      "💾 Updated current split best model at epoch 1\n"
     ]
    },
    {
     "name": "stderr",
     "output_type": "stream",
     "text": [
      "100%|██████████| 8039/8039 [01:52<00:00, 71.51it/s, loss=5.5e+3] \n"
     ]
    },
    {
     "name": "stdout",
     "output_type": "stream",
     "text": [
      "Epoch 2/10, Training: Loss is 0.6846\n"
     ]
    },
    {
     "name": "stderr",
     "output_type": "stream",
     "text": [
      "100%|██████████| 2971/2971 [00:18<00:00, 160.42it/s, loss=2.04e+3]\n"
     ]
    },
    {
     "name": "stdout",
     "output_type": "stream",
     "text": [
      "Epoch 2/10, Validation: Loss is 0.6875, Val Acc is 54.38%\n"
     ]
    },
    {
     "name": "stderr",
     "output_type": "stream",
     "text": [
      "100%|██████████| 8039/8039 [01:49<00:00, 73.36it/s, loss=5.48e+3]\n"
     ]
    },
    {
     "name": "stdout",
     "output_type": "stream",
     "text": [
      "Epoch 3/10, Training: Loss is 0.6820\n"
     ]
    },
    {
     "name": "stderr",
     "output_type": "stream",
     "text": [
      "100%|██████████| 2971/2971 [00:17<00:00, 165.56it/s, loss=2.03e+3]\n"
     ]
    },
    {
     "name": "stdout",
     "output_type": "stream",
     "text": [
      "Epoch 3/10, Validation: Loss is 0.6825, Val Acc is 55.70%\n",
      "💾 Updated current split best model at epoch 3\n"
     ]
    },
    {
     "name": "stderr",
     "output_type": "stream",
     "text": [
      "100%|██████████| 8039/8039 [01:49<00:00, 73.25it/s, loss=5.47e+3]\n"
     ]
    },
    {
     "name": "stdout",
     "output_type": "stream",
     "text": [
      "Epoch 4/10, Training: Loss is 0.6804\n"
     ]
    },
    {
     "name": "stderr",
     "output_type": "stream",
     "text": [
      "100%|██████████| 2971/2971 [00:18<00:00, 159.72it/s, loss=2.03e+3]\n"
     ]
    },
    {
     "name": "stdout",
     "output_type": "stream",
     "text": [
      "Epoch 4/10, Validation: Loss is 0.6831, Val Acc is 55.62%\n"
     ]
    },
    {
     "name": "stderr",
     "output_type": "stream",
     "text": [
      "100%|██████████| 8039/8039 [01:52<00:00, 71.43it/s, loss=5.46e+3]\n"
     ]
    },
    {
     "name": "stdout",
     "output_type": "stream",
     "text": [
      "Epoch 5/10, Training: Loss is 0.6795\n"
     ]
    },
    {
     "name": "stderr",
     "output_type": "stream",
     "text": [
      "100%|██████████| 2971/2971 [00:18<00:00, 160.20it/s, loss=2.03e+3]\n"
     ]
    },
    {
     "name": "stdout",
     "output_type": "stream",
     "text": [
      "Epoch 5/10, Validation: Loss is 0.6833, Val Acc is 55.40%\n"
     ]
    },
    {
     "name": "stderr",
     "output_type": "stream",
     "text": [
      "100%|██████████| 8039/8039 [01:47<00:00, 74.45it/s, loss=5.46e+3]\n"
     ]
    },
    {
     "name": "stdout",
     "output_type": "stream",
     "text": [
      "Epoch 6/10, Training: Loss is 0.6787\n"
     ]
    },
    {
     "name": "stderr",
     "output_type": "stream",
     "text": [
      "100%|██████████| 2971/2971 [00:17<00:00, 166.03it/s, loss=2.02e+3]\n"
     ]
    },
    {
     "name": "stdout",
     "output_type": "stream",
     "text": [
      "Epoch 6/10, Validation: Loss is 0.6814, Val Acc is 56.03%\n",
      "💾 Updated overall best model at epoch 6\n",
      "💾 Updated current split best model at epoch 6\n"
     ]
    },
    {
     "name": "stderr",
     "output_type": "stream",
     "text": [
      "100%|██████████| 8039/8039 [01:49<00:00, 73.62it/s, loss=5.45e+3]\n"
     ]
    },
    {
     "name": "stdout",
     "output_type": "stream",
     "text": [
      "Epoch 7/10, Training: Loss is 0.6780\n"
     ]
    },
    {
     "name": "stderr",
     "output_type": "stream",
     "text": [
      "100%|██████████| 2971/2971 [00:17<00:00, 165.81it/s, loss=2.03e+3]\n"
     ]
    },
    {
     "name": "stdout",
     "output_type": "stream",
     "text": [
      "Epoch 7/10, Validation: Loss is 0.6826, Val Acc is 55.62%\n"
     ]
    },
    {
     "name": "stderr",
     "output_type": "stream",
     "text": [
      "100%|██████████| 8039/8039 [01:48<00:00, 74.22it/s, loss=5.45e+3]\n"
     ]
    },
    {
     "name": "stdout",
     "output_type": "stream",
     "text": [
      "Epoch 8/10, Training: Loss is 0.6774\n"
     ]
    },
    {
     "name": "stderr",
     "output_type": "stream",
     "text": [
      "100%|██████████| 2971/2971 [00:18<00:00, 160.40it/s, loss=2.03e+3]\n"
     ]
    },
    {
     "name": "stdout",
     "output_type": "stream",
     "text": [
      "Epoch 8/10, Validation: Loss is 0.6817, Val Acc is 55.84%\n"
     ]
    },
    {
     "name": "stderr",
     "output_type": "stream",
     "text": [
      "100%|██████████| 8039/8039 [01:46<00:00, 75.15it/s, loss=5.44e+3]\n"
     ]
    },
    {
     "name": "stdout",
     "output_type": "stream",
     "text": [
      "Epoch 9/10, Training: Loss is 0.6766\n"
     ]
    },
    {
     "name": "stderr",
     "output_type": "stream",
     "text": [
      "100%|██████████| 2971/2971 [00:18<00:00, 163.99it/s, loss=2.03e+3]\n"
     ]
    },
    {
     "name": "stdout",
     "output_type": "stream",
     "text": [
      "Epoch 9/10, Validation: Loss is 0.6827, Val Acc is 55.67%\n",
      "🛑 Early stopping triggered at epoch 9\n",
      "✅ Split 2 | Best Val Accuracy: 56.03% | Test Accuracy: 50.75%\n",
      "\n",
      "🔁 Split 3 | Train years: [1997, 1998, 1999, 2000, 2001], Val: [2002, 2003], Test: [2004]\n"
     ]
    },
    {
     "name": "stderr",
     "output_type": "stream",
     "text": [
      "100%|██████████| 7874/7874 [01:50<00:00, 71.50it/s, loss=5.72e+3]\n"
     ]
    },
    {
     "name": "stdout",
     "output_type": "stream",
     "text": [
      "Epoch 1/10, Training: Loss is 0.7264\n"
     ]
    },
    {
     "name": "stderr",
     "output_type": "stream",
     "text": [
      "100%|██████████| 2604/2604 [00:16<00:00, 159.96it/s, loss=1.79e+3]\n"
     ]
    },
    {
     "name": "stdout",
     "output_type": "stream",
     "text": [
      "Epoch 1/10, Validation: Loss is 0.6889, Val Acc is 54.01%\n",
      "💾 Updated current split best model at epoch 1\n"
     ]
    },
    {
     "name": "stderr",
     "output_type": "stream",
     "text": [
      "100%|██████████| 7874/7874 [01:47<00:00, 73.01it/s, loss=5.41e+3]\n"
     ]
    },
    {
     "name": "stdout",
     "output_type": "stream",
     "text": [
      "Epoch 2/10, Training: Loss is 0.6867\n"
     ]
    },
    {
     "name": "stderr",
     "output_type": "stream",
     "text": [
      "100%|██████████| 2604/2604 [00:15<00:00, 165.48it/s, loss=1.78e+3]\n"
     ]
    },
    {
     "name": "stdout",
     "output_type": "stream",
     "text": [
      "Epoch 2/10, Validation: Loss is 0.6848, Val Acc is 55.25%\n",
      "💾 Updated current split best model at epoch 2\n"
     ]
    },
    {
     "name": "stderr",
     "output_type": "stream",
     "text": [
      "100%|██████████| 7874/7874 [01:44<00:00, 75.11it/s, loss=5.39e+3]\n"
     ]
    },
    {
     "name": "stdout",
     "output_type": "stream",
     "text": [
      "Epoch 3/10, Training: Loss is 0.6840\n"
     ]
    },
    {
     "name": "stderr",
     "output_type": "stream",
     "text": [
      "100%|██████████| 2604/2604 [00:15<00:00, 164.77it/s, loss=1.78e+3]\n"
     ]
    },
    {
     "name": "stdout",
     "output_type": "stream",
     "text": [
      "Epoch 3/10, Validation: Loss is 0.6852, Val Acc is 54.92%\n"
     ]
    },
    {
     "name": "stderr",
     "output_type": "stream",
     "text": [
      "100%|██████████| 7874/7874 [01:44<00:00, 75.07it/s, loss=5.38e+3]\n"
     ]
    },
    {
     "name": "stdout",
     "output_type": "stream",
     "text": [
      "Epoch 4/10, Training: Loss is 0.6827\n"
     ]
    },
    {
     "name": "stderr",
     "output_type": "stream",
     "text": [
      "100%|██████████| 2604/2604 [00:15<00:00, 165.86it/s, loss=1.78e+3]\n"
     ]
    },
    {
     "name": "stdout",
     "output_type": "stream",
     "text": [
      "Epoch 4/10, Validation: Loss is 0.6849, Val Acc is 54.90%\n"
     ]
    },
    {
     "name": "stderr",
     "output_type": "stream",
     "text": [
      "100%|██████████| 7874/7874 [01:47<00:00, 73.28it/s, loss=5.37e+3]\n"
     ]
    },
    {
     "name": "stdout",
     "output_type": "stream",
     "text": [
      "Epoch 5/10, Training: Loss is 0.6816\n"
     ]
    },
    {
     "name": "stderr",
     "output_type": "stream",
     "text": [
      "100%|██████████| 2604/2604 [00:16<00:00, 160.29it/s, loss=1.79e+3]\n"
     ]
    },
    {
     "name": "stdout",
     "output_type": "stream",
     "text": [
      "Epoch 5/10, Validation: Loss is 0.6865, Val Acc is 54.46%\n",
      "🛑 Early stopping triggered at epoch 5\n",
      "✅ Split 3 | Best Val Accuracy: 55.25% | Test Accuracy: 51.70%\n",
      "\n",
      "🔁 Split 4 | Train years: [1999, 2000, 2001, 2002, 2003], Val: [2004, 2005], Test: [2006]\n"
     ]
    },
    {
     "name": "stderr",
     "output_type": "stream",
     "text": [
      "100%|██████████| 7142/7142 [01:39<00:00, 71.62it/s, loss=5.22e+3]\n"
     ]
    },
    {
     "name": "stdout",
     "output_type": "stream",
     "text": [
      "Epoch 1/10, Training: Loss is 0.7312\n"
     ]
    },
    {
     "name": "stderr",
     "output_type": "stream",
     "text": [
      "100%|██████████| 2491/2491 [00:15<00:00, 160.21it/s, loss=1.74e+3]\n"
     ]
    },
    {
     "name": "stdout",
     "output_type": "stream",
     "text": [
      "Epoch 1/10, Validation: Loss is 0.6972, Val Acc is 50.75%\n",
      "💾 Updated current split best model at epoch 1\n"
     ]
    },
    {
     "name": "stderr",
     "output_type": "stream",
     "text": [
      "100%|██████████| 7142/7142 [01:39<00:00, 71.63it/s, loss=4.9e+3] \n"
     ]
    },
    {
     "name": "stdout",
     "output_type": "stream",
     "text": [
      "Epoch 2/10, Training: Loss is 0.6858\n"
     ]
    },
    {
     "name": "stderr",
     "output_type": "stream",
     "text": [
      "100%|██████████| 2491/2491 [00:15<00:00, 159.56it/s, loss=1.72e+3]\n"
     ]
    },
    {
     "name": "stdout",
     "output_type": "stream",
     "text": [
      "Epoch 2/10, Validation: Loss is 0.6915, Val Acc is 53.04%\n",
      "💾 Updated current split best model at epoch 2\n"
     ]
    },
    {
     "name": "stderr",
     "output_type": "stream",
     "text": [
      "100%|██████████| 7142/7142 [01:39<00:00, 71.69it/s, loss=4.87e+3]\n"
     ]
    },
    {
     "name": "stdout",
     "output_type": "stream",
     "text": [
      "Epoch 3/10, Training: Loss is 0.6826\n"
     ]
    },
    {
     "name": "stderr",
     "output_type": "stream",
     "text": [
      "100%|██████████| 2491/2491 [00:15<00:00, 159.45it/s, loss=1.73e+3]\n"
     ]
    },
    {
     "name": "stdout",
     "output_type": "stream",
     "text": [
      "Epoch 3/10, Validation: Loss is 0.6928, Val Acc is 52.58%\n"
     ]
    },
    {
     "name": "stderr",
     "output_type": "stream",
     "text": [
      "100%|██████████| 7142/7142 [01:39<00:00, 71.70it/s, loss=4.87e+3]\n"
     ]
    },
    {
     "name": "stdout",
     "output_type": "stream",
     "text": [
      "Epoch 4/10, Training: Loss is 0.6812\n"
     ]
    },
    {
     "name": "stderr",
     "output_type": "stream",
     "text": [
      "100%|██████████| 2491/2491 [00:15<00:00, 160.79it/s, loss=1.72e+3]\n"
     ]
    },
    {
     "name": "stdout",
     "output_type": "stream",
     "text": [
      "Epoch 4/10, Validation: Loss is 0.6893, Val Acc is 53.44%\n",
      "💾 Updated current split best model at epoch 4\n"
     ]
    },
    {
     "name": "stderr",
     "output_type": "stream",
     "text": [
      "100%|██████████| 7142/7142 [01:39<00:00, 71.49it/s, loss=4.86e+3]\n"
     ]
    },
    {
     "name": "stdout",
     "output_type": "stream",
     "text": [
      "Epoch 5/10, Training: Loss is 0.6800\n"
     ]
    },
    {
     "name": "stderr",
     "output_type": "stream",
     "text": [
      "100%|██████████| 2491/2491 [00:15<00:00, 160.32it/s, loss=1.72e+3]\n"
     ]
    },
    {
     "name": "stdout",
     "output_type": "stream",
     "text": [
      "Epoch 5/10, Validation: Loss is 0.6900, Val Acc is 54.35%\n",
      "💾 Updated current split best model at epoch 5\n"
     ]
    },
    {
     "name": "stderr",
     "output_type": "stream",
     "text": [
      "100%|██████████| 7142/7142 [01:39<00:00, 71.59it/s, loss=4.85e+3]\n"
     ]
    },
    {
     "name": "stdout",
     "output_type": "stream",
     "text": [
      "Epoch 6/10, Training: Loss is 0.6789\n"
     ]
    },
    {
     "name": "stderr",
     "output_type": "stream",
     "text": [
      "100%|██████████| 2491/2491 [00:15<00:00, 160.57it/s, loss=1.73e+3]\n"
     ]
    },
    {
     "name": "stdout",
     "output_type": "stream",
     "text": [
      "Epoch 6/10, Validation: Loss is 0.6956, Val Acc is 51.86%\n"
     ]
    },
    {
     "name": "stderr",
     "output_type": "stream",
     "text": [
      "100%|██████████| 7142/7142 [01:39<00:00, 71.60it/s, loss=4.84e+3]\n"
     ]
    },
    {
     "name": "stdout",
     "output_type": "stream",
     "text": [
      "Epoch 7/10, Training: Loss is 0.6778\n"
     ]
    },
    {
     "name": "stderr",
     "output_type": "stream",
     "text": [
      "100%|██████████| 2491/2491 [00:15<00:00, 160.17it/s, loss=1.72e+3]\n"
     ]
    },
    {
     "name": "stdout",
     "output_type": "stream",
     "text": [
      "Epoch 7/10, Validation: Loss is 0.6891, Val Acc is 54.24%\n"
     ]
    },
    {
     "name": "stderr",
     "output_type": "stream",
     "text": [
      "100%|██████████| 7142/7142 [01:39<00:00, 71.64it/s, loss=4.83e+3]\n"
     ]
    },
    {
     "name": "stdout",
     "output_type": "stream",
     "text": [
      "Epoch 8/10, Training: Loss is 0.6764\n"
     ]
    },
    {
     "name": "stderr",
     "output_type": "stream",
     "text": [
      "100%|██████████| 2491/2491 [00:15<00:00, 160.89it/s, loss=1.73e+3]\n"
     ]
    },
    {
     "name": "stdout",
     "output_type": "stream",
     "text": [
      "Epoch 8/10, Validation: Loss is 0.6960, Val Acc is 52.50%\n",
      "🛑 Early stopping triggered at epoch 8\n",
      "✅ Split 4 | Best Val Accuracy: 54.35% | Test Accuracy: 51.75%\n",
      "\n",
      "🔁 Split 5 | Train years: [2001, 2002, 2003, 2004, 2005], Val: [2006, 2007], Test: [2008]\n"
     ]
    },
    {
     "name": "stderr",
     "output_type": "stream",
     "text": [
      "100%|██████████| 6532/6532 [01:29<00:00, 72.98it/s, loss=4.84e+3]\n"
     ]
    },
    {
     "name": "stdout",
     "output_type": "stream",
     "text": [
      "Epoch 1/10, Training: Loss is 0.7409\n"
     ]
    },
    {
     "name": "stderr",
     "output_type": "stream",
     "text": [
      "100%|██████████| 2521/2521 [00:15<00:00, 166.00it/s, loss=1.75e+3]\n"
     ]
    },
    {
     "name": "stdout",
     "output_type": "stream",
     "text": [
      "Epoch 1/10, Validation: Loss is 0.6933, Val Acc is 52.05%\n",
      "💾 Updated current split best model at epoch 1\n"
     ]
    },
    {
     "name": "stderr",
     "output_type": "stream",
     "text": [
      "100%|██████████| 6532/6532 [01:26<00:00, 75.14it/s, loss=4.49e+3]\n"
     ]
    },
    {
     "name": "stdout",
     "output_type": "stream",
     "text": [
      "Epoch 2/10, Training: Loss is 0.6872\n"
     ]
    },
    {
     "name": "stderr",
     "output_type": "stream",
     "text": [
      "100%|██████████| 2521/2521 [00:15<00:00, 165.90it/s, loss=1.73e+3]\n"
     ]
    },
    {
     "name": "stdout",
     "output_type": "stream",
     "text": [
      "Epoch 2/10, Validation: Loss is 0.6879, Val Acc is 54.28%\n",
      "💾 Updated current split best model at epoch 2\n"
     ]
    },
    {
     "name": "stderr",
     "output_type": "stream",
     "text": [
      "100%|██████████| 6532/6532 [01:26<00:00, 75.14it/s, loss=4.47e+3]\n"
     ]
    },
    {
     "name": "stdout",
     "output_type": "stream",
     "text": [
      "Epoch 3/10, Training: Loss is 0.6845\n"
     ]
    },
    {
     "name": "stderr",
     "output_type": "stream",
     "text": [
      "100%|██████████| 2521/2521 [00:15<00:00, 165.90it/s, loss=1.75e+3]\n"
     ]
    },
    {
     "name": "stdout",
     "output_type": "stream",
     "text": [
      "Epoch 3/10, Validation: Loss is 0.6923, Val Acc is 52.63%\n"
     ]
    },
    {
     "name": "stderr",
     "output_type": "stream",
     "text": [
      "100%|██████████| 6532/6532 [01:29<00:00, 73.16it/s, loss=4.45e+3]\n"
     ]
    },
    {
     "name": "stdout",
     "output_type": "stream",
     "text": [
      "Epoch 4/10, Training: Loss is 0.6817\n"
     ]
    },
    {
     "name": "stderr",
     "output_type": "stream",
     "text": [
      "100%|██████████| 2521/2521 [00:15<00:00, 166.75it/s, loss=1.77e+3]\n"
     ]
    },
    {
     "name": "stdout",
     "output_type": "stream",
     "text": [
      "Epoch 4/10, Validation: Loss is 0.7006, Val Acc is 51.38%\n"
     ]
    },
    {
     "name": "stderr",
     "output_type": "stream",
     "text": [
      "100%|██████████| 6532/6532 [01:27<00:00, 74.79it/s, loss=4.44e+3]\n"
     ]
    },
    {
     "name": "stdout",
     "output_type": "stream",
     "text": [
      "Epoch 5/10, Training: Loss is 0.6799\n"
     ]
    },
    {
     "name": "stderr",
     "output_type": "stream",
     "text": [
      "100%|██████████| 2521/2521 [00:15<00:00, 159.77it/s, loss=1.75e+3]\n"
     ]
    },
    {
     "name": "stdout",
     "output_type": "stream",
     "text": [
      "Epoch 5/10, Validation: Loss is 0.6932, Val Acc is 53.00%\n",
      "🛑 Early stopping triggered at epoch 5\n",
      "✅ Split 5 | Best Val Accuracy: 54.28% | Test Accuracy: 52.50%\n",
      "\n",
      "🔁 Split 6 | Train years: [2003, 2004, 2005, 2006, 2007], Val: [2008, 2009], Test: [2010]\n"
     ]
    },
    {
     "name": "stderr",
     "output_type": "stream",
     "text": [
      "100%|██████████| 6275/6275 [01:28<00:00, 71.31it/s, loss=4.63e+3]\n"
     ]
    },
    {
     "name": "stdout",
     "output_type": "stream",
     "text": [
      "Epoch 1/10, Training: Loss is 0.7371\n"
     ]
    },
    {
     "name": "stderr",
     "output_type": "stream",
     "text": [
      "100%|██████████| 2317/2317 [00:14<00:00, 160.77it/s, loss=1.62e+3]\n"
     ]
    },
    {
     "name": "stdout",
     "output_type": "stream",
     "text": [
      "Epoch 1/10, Validation: Loss is 0.6994, Val Acc is 52.13%\n",
      "💾 Updated current split best model at epoch 1\n"
     ]
    },
    {
     "name": "stderr",
     "output_type": "stream",
     "text": [
      "100%|██████████| 6275/6275 [01:27<00:00, 71.43it/s, loss=4.3e+3] \n"
     ]
    },
    {
     "name": "stdout",
     "output_type": "stream",
     "text": [
      "Epoch 2/10, Training: Loss is 0.6847\n"
     ]
    },
    {
     "name": "stderr",
     "output_type": "stream",
     "text": [
      "100%|██████████| 2317/2317 [00:14<00:00, 160.40it/s, loss=1.63e+3]\n"
     ]
    },
    {
     "name": "stdout",
     "output_type": "stream",
     "text": [
      "Epoch 2/10, Validation: Loss is 0.7032, Val Acc is 49.57%\n"
     ]
    },
    {
     "name": "stderr",
     "output_type": "stream",
     "text": [
      "100%|██████████| 6275/6275 [01:24<00:00, 74.00it/s, loss=4.28e+3]\n"
     ]
    },
    {
     "name": "stdout",
     "output_type": "stream",
     "text": [
      "Epoch 3/10, Training: Loss is 0.6824\n"
     ]
    },
    {
     "name": "stderr",
     "output_type": "stream",
     "text": [
      "100%|██████████| 2317/2317 [00:13<00:00, 166.85it/s, loss=1.64e+3]\n"
     ]
    },
    {
     "name": "stdout",
     "output_type": "stream",
     "text": [
      "Epoch 3/10, Validation: Loss is 0.7070, Val Acc is 50.62%\n"
     ]
    },
    {
     "name": "stderr",
     "output_type": "stream",
     "text": [
      "100%|██████████| 6275/6275 [01:26<00:00, 72.39it/s, loss=4.27e+3]\n"
     ]
    },
    {
     "name": "stdout",
     "output_type": "stream",
     "text": [
      "Epoch 4/10, Training: Loss is 0.6800\n"
     ]
    },
    {
     "name": "stderr",
     "output_type": "stream",
     "text": [
      "100%|██████████| 2317/2317 [00:14<00:00, 160.13it/s, loss=1.62e+3]\n"
     ]
    },
    {
     "name": "stdout",
     "output_type": "stream",
     "text": [
      "Epoch 4/10, Validation: Loss is 0.6978, Val Acc is 51.81%\n",
      "🛑 Early stopping triggered at epoch 4\n",
      "✅ Split 6 | Best Val Accuracy: 52.13% | Test Accuracy: 55.02%\n",
      "\n",
      "🔁 Split 7 | Train years: [2005, 2006, 2007, 2008, 2009], Val: [2010, 2011], Test: [2012]\n"
     ]
    },
    {
     "name": "stderr",
     "output_type": "stream",
     "text": [
      "100%|██████████| 6085/6085 [01:25<00:00, 71.56it/s, loss=4.56e+3]\n"
     ]
    },
    {
     "name": "stdout",
     "output_type": "stream",
     "text": [
      "Epoch 1/10, Training: Loss is 0.7500\n"
     ]
    },
    {
     "name": "stderr",
     "output_type": "stream",
     "text": [
      "100%|██████████| 2117/2117 [00:13<00:00, 160.85it/s, loss=1.47e+3]\n"
     ]
    },
    {
     "name": "stdout",
     "output_type": "stream",
     "text": [
      "Epoch 1/10, Validation: Loss is 0.6965, Val Acc is 51.97%\n",
      "💾 Updated current split best model at epoch 1\n"
     ]
    },
    {
     "name": "stderr",
     "output_type": "stream",
     "text": [
      "100%|██████████| 6085/6085 [01:23<00:00, 72.94it/s, loss=4.16e+3]\n"
     ]
    },
    {
     "name": "stdout",
     "output_type": "stream",
     "text": [
      "Epoch 2/10, Training: Loss is 0.6843\n"
     ]
    },
    {
     "name": "stderr",
     "output_type": "stream",
     "text": [
      "100%|██████████| 2117/2117 [00:12<00:00, 165.36it/s, loss=1.49e+3]\n"
     ]
    },
    {
     "name": "stdout",
     "output_type": "stream",
     "text": [
      "Epoch 2/10, Validation: Loss is 0.7035, Val Acc is 51.51%\n"
     ]
    },
    {
     "name": "stderr",
     "output_type": "stream",
     "text": [
      "100%|██████████| 6085/6085 [01:20<00:00, 75.35it/s, loss=4.14e+3]\n"
     ]
    },
    {
     "name": "stdout",
     "output_type": "stream",
     "text": [
      "Epoch 3/10, Training: Loss is 0.6805\n"
     ]
    },
    {
     "name": "stderr",
     "output_type": "stream",
     "text": [
      "100%|██████████| 2117/2117 [00:13<00:00, 160.63it/s, loss=1.49e+3]\n"
     ]
    },
    {
     "name": "stdout",
     "output_type": "stream",
     "text": [
      "Epoch 3/10, Validation: Loss is 0.7017, Val Acc is 51.34%\n"
     ]
    },
    {
     "name": "stderr",
     "output_type": "stream",
     "text": [
      "100%|██████████| 6085/6085 [01:24<00:00, 71.72it/s, loss=4.12e+3]\n"
     ]
    },
    {
     "name": "stdout",
     "output_type": "stream",
     "text": [
      "Epoch 4/10, Training: Loss is 0.6777\n"
     ]
    },
    {
     "name": "stderr",
     "output_type": "stream",
     "text": [
      "100%|██████████| 2117/2117 [00:13<00:00, 160.61it/s, loss=1.5e+3] \n"
     ]
    },
    {
     "name": "stdout",
     "output_type": "stream",
     "text": [
      "Epoch 4/10, Validation: Loss is 0.7108, Val Acc is 50.31%\n",
      "🛑 Early stopping triggered at epoch 4\n",
      "✅ Split 7 | Best Val Accuracy: 51.97% | Test Accuracy: 52.15%\n",
      "\n",
      "🔁 Split 8 | Train years: [2007, 2008, 2009, 2010, 2011], Val: [2012, 2013], Test: [2014]\n"
     ]
    },
    {
     "name": "stderr",
     "output_type": "stream",
     "text": [
      "100%|██████████| 5701/5701 [01:19<00:00, 71.54it/s, loss=4.17e+3]\n"
     ]
    },
    {
     "name": "stdout",
     "output_type": "stream",
     "text": [
      "Epoch 1/10, Training: Loss is 0.7317\n"
     ]
    },
    {
     "name": "stderr",
     "output_type": "stream",
     "text": [
      "100%|██████████| 2059/2059 [00:12<00:00, 161.12it/s, loss=1.49e+3]\n"
     ]
    },
    {
     "name": "stdout",
     "output_type": "stream",
     "text": [
      "Epoch 1/10, Validation: Loss is 0.7235, Val Acc is 48.69%\n",
      "💾 Updated current split best model at epoch 1\n"
     ]
    },
    {
     "name": "stderr",
     "output_type": "stream",
     "text": [
      "100%|██████████| 5701/5701 [01:19<00:00, 71.63it/s, loss=3.83e+3]\n"
     ]
    },
    {
     "name": "stdout",
     "output_type": "stream",
     "text": [
      "Epoch 2/10, Training: Loss is 0.6721\n"
     ]
    },
    {
     "name": "stderr",
     "output_type": "stream",
     "text": [
      "100%|██████████| 2059/2059 [00:12<00:00, 161.37it/s, loss=1.49e+3]\n"
     ]
    },
    {
     "name": "stdout",
     "output_type": "stream",
     "text": [
      "Epoch 2/10, Validation: Loss is 0.7224, Val Acc is 48.38%\n"
     ]
    },
    {
     "name": "stderr",
     "output_type": "stream",
     "text": [
      "100%|██████████| 5701/5701 [01:18<00:00, 72.20it/s, loss=3.79e+3]\n"
     ]
    },
    {
     "name": "stdout",
     "output_type": "stream",
     "text": [
      "Epoch 3/10, Training: Loss is 0.6654\n"
     ]
    },
    {
     "name": "stderr",
     "output_type": "stream",
     "text": [
      "100%|██████████| 2059/2059 [00:12<00:00, 165.72it/s, loss=1.48e+3]\n"
     ]
    },
    {
     "name": "stdout",
     "output_type": "stream",
     "text": [
      "Epoch 3/10, Validation: Loss is 0.7208, Val Acc is 48.87%\n",
      "💾 Updated current split best model at epoch 3\n"
     ]
    },
    {
     "name": "stderr",
     "output_type": "stream",
     "text": [
      "100%|██████████| 5701/5701 [01:15<00:00, 75.37it/s, loss=3.76e+3]\n"
     ]
    },
    {
     "name": "stdout",
     "output_type": "stream",
     "text": [
      "Epoch 4/10, Training: Loss is 0.6597\n"
     ]
    },
    {
     "name": "stderr",
     "output_type": "stream",
     "text": [
      "100%|██████████| 2059/2059 [00:12<00:00, 166.00it/s, loss=1.5e+3] \n"
     ]
    },
    {
     "name": "stdout",
     "output_type": "stream",
     "text": [
      "Epoch 4/10, Validation: Loss is 0.7302, Val Acc is 48.48%\n"
     ]
    },
    {
     "name": "stderr",
     "output_type": "stream",
     "text": [
      "100%|██████████| 5701/5701 [01:19<00:00, 71.66it/s, loss=3.73e+3]\n"
     ]
    },
    {
     "name": "stdout",
     "output_type": "stream",
     "text": [
      "Epoch 5/10, Training: Loss is 0.6548\n"
     ]
    },
    {
     "name": "stderr",
     "output_type": "stream",
     "text": [
      "100%|██████████| 2059/2059 [00:12<00:00, 160.29it/s, loss=1.49e+3]\n"
     ]
    },
    {
     "name": "stdout",
     "output_type": "stream",
     "text": [
      "Epoch 5/10, Validation: Loss is 0.7253, Val Acc is 48.96%\n",
      "💾 Updated current split best model at epoch 5\n"
     ]
    },
    {
     "name": "stderr",
     "output_type": "stream",
     "text": [
      "100%|██████████| 5701/5701 [01:15<00:00, 75.27it/s, loss=3.71e+3]\n"
     ]
    },
    {
     "name": "stdout",
     "output_type": "stream",
     "text": [
      "Epoch 6/10, Training: Loss is 0.6505\n"
     ]
    },
    {
     "name": "stderr",
     "output_type": "stream",
     "text": [
      "100%|██████████| 2059/2059 [00:12<00:00, 165.08it/s, loss=1.52e+3]\n"
     ]
    },
    {
     "name": "stdout",
     "output_type": "stream",
     "text": [
      "Epoch 6/10, Validation: Loss is 0.7399, Val Acc is 49.05%\n",
      "💾 Updated current split best model at epoch 6\n"
     ]
    },
    {
     "name": "stderr",
     "output_type": "stream",
     "text": [
      "100%|██████████| 5701/5701 [01:16<00:00, 74.17it/s, loss=3.69e+3]\n"
     ]
    },
    {
     "name": "stdout",
     "output_type": "stream",
     "text": [
      "Epoch 7/10, Training: Loss is 0.6465\n"
     ]
    },
    {
     "name": "stderr",
     "output_type": "stream",
     "text": [
      "100%|██████████| 2059/2059 [00:12<00:00, 160.52it/s, loss=1.5e+3] \n"
     ]
    },
    {
     "name": "stdout",
     "output_type": "stream",
     "text": [
      "Epoch 7/10, Validation: Loss is 0.7297, Val Acc is 48.46%\n"
     ]
    },
    {
     "name": "stderr",
     "output_type": "stream",
     "text": [
      "100%|██████████| 5701/5701 [01:19<00:00, 71.54it/s, loss=3.66e+3]\n"
     ]
    },
    {
     "name": "stdout",
     "output_type": "stream",
     "text": [
      "Epoch 8/10, Training: Loss is 0.6425\n"
     ]
    },
    {
     "name": "stderr",
     "output_type": "stream",
     "text": [
      "100%|██████████| 2059/2059 [00:12<00:00, 160.51it/s, loss=1.51e+3]\n"
     ]
    },
    {
     "name": "stdout",
     "output_type": "stream",
     "text": [
      "Epoch 8/10, Validation: Loss is 0.7352, Val Acc is 48.09%\n"
     ]
    },
    {
     "name": "stderr",
     "output_type": "stream",
     "text": [
      "100%|██████████| 5701/5701 [01:16<00:00, 74.95it/s, loss=3.64e+3]\n"
     ]
    },
    {
     "name": "stdout",
     "output_type": "stream",
     "text": [
      "Epoch 9/10, Training: Loss is 0.6380\n"
     ]
    },
    {
     "name": "stderr",
     "output_type": "stream",
     "text": [
      "100%|██████████| 2059/2059 [00:12<00:00, 166.26it/s, loss=1.52e+3]\n"
     ]
    },
    {
     "name": "stdout",
     "output_type": "stream",
     "text": [
      "Epoch 9/10, Validation: Loss is 0.7390, Val Acc is 48.82%\n",
      "🛑 Early stopping triggered at epoch 9\n",
      "✅ Split 8 | Best Val Accuracy: 49.05% | Test Accuracy: 51.81%\n",
      "\n",
      "🔁 Split 9 | Train years: [2009, 2010, 2011, 2012, 2013], Val: [2014, 2015], Test: [2016]\n"
     ]
    },
    {
     "name": "stderr",
     "output_type": "stream",
     "text": [
      "100%|██████████| 5270/5270 [01:10<00:00, 75.12it/s, loss=4.05e+3]\n"
     ]
    },
    {
     "name": "stdout",
     "output_type": "stream",
     "text": [
      "Epoch 1/10, Training: Loss is 0.7676\n"
     ]
    },
    {
     "name": "stderr",
     "output_type": "stream",
     "text": [
      "100%|██████████| 2128/2128 [00:12<00:00, 164.78it/s, loss=1.5e+3] \n"
     ]
    },
    {
     "name": "stdout",
     "output_type": "stream",
     "text": [
      "Epoch 1/10, Validation: Loss is 0.7027, Val Acc is 50.89%\n",
      "💾 Updated current split best model at epoch 1\n"
     ]
    },
    {
     "name": "stderr",
     "output_type": "stream",
     "text": [
      "100%|██████████| 5270/5270 [01:13<00:00, 71.60it/s, loss=3.56e+3]\n"
     ]
    },
    {
     "name": "stdout",
     "output_type": "stream",
     "text": [
      "Epoch 2/10, Training: Loss is 0.6749\n"
     ]
    },
    {
     "name": "stderr",
     "output_type": "stream",
     "text": [
      "100%|██████████| 2128/2128 [00:13<00:00, 160.52it/s, loss=1.5e+3] \n"
     ]
    },
    {
     "name": "stdout",
     "output_type": "stream",
     "text": [
      "Epoch 2/10, Validation: Loss is 0.7064, Val Acc is 49.76%\n"
     ]
    },
    {
     "name": "stderr",
     "output_type": "stream",
     "text": [
      "100%|██████████| 5270/5270 [01:13<00:00, 71.60it/s, loss=3.52e+3]\n"
     ]
    },
    {
     "name": "stdout",
     "output_type": "stream",
     "text": [
      "Epoch 3/10, Training: Loss is 0.6684\n"
     ]
    },
    {
     "name": "stderr",
     "output_type": "stream",
     "text": [
      "100%|██████████| 2128/2128 [00:13<00:00, 160.21it/s, loss=1.52e+3]\n"
     ]
    },
    {
     "name": "stdout",
     "output_type": "stream",
     "text": [
      "Epoch 3/10, Validation: Loss is 0.7161, Val Acc is 49.49%\n"
     ]
    },
    {
     "name": "stderr",
     "output_type": "stream",
     "text": [
      "100%|██████████| 5270/5270 [01:13<00:00, 71.59it/s, loss=3.5e+3] \n"
     ]
    },
    {
     "name": "stdout",
     "output_type": "stream",
     "text": [
      "Epoch 4/10, Training: Loss is 0.6640\n"
     ]
    },
    {
     "name": "stderr",
     "output_type": "stream",
     "text": [
      "100%|██████████| 2128/2128 [00:13<00:00, 160.99it/s, loss=1.58e+3]\n"
     ]
    },
    {
     "name": "stdout",
     "output_type": "stream",
     "text": [
      "Epoch 4/10, Validation: Loss is 0.7434, Val Acc is 48.86%\n",
      "🛑 Early stopping triggered at epoch 4\n",
      "✅ Split 9 | Best Val Accuracy: 50.89% | Test Accuracy: 49.11%\n",
      "\n",
      "🔁 Split 10 | Train years: [2011, 2012, 2013, 2014, 2015], Val: [2016, 2017], Test: [2018]\n"
     ]
    },
    {
     "name": "stderr",
     "output_type": "stream",
     "text": [
      "100%|██████████| 5238/5238 [01:09<00:00, 75.11it/s, loss=3.99e+3]\n"
     ]
    },
    {
     "name": "stdout",
     "output_type": "stream",
     "text": [
      "Epoch 1/10, Training: Loss is 0.7615\n"
     ]
    },
    {
     "name": "stderr",
     "output_type": "stream",
     "text": [
      "100%|██████████| 2125/2125 [00:12<00:00, 166.53it/s, loss=1.49e+3]\n"
     ]
    },
    {
     "name": "stdout",
     "output_type": "stream",
     "text": [
      "Epoch 1/10, Validation: Loss is 0.7017, Val Acc is 50.81%\n",
      "💾 Updated current split best model at epoch 1\n"
     ]
    },
    {
     "name": "stderr",
     "output_type": "stream",
     "text": [
      "100%|██████████| 5238/5238 [01:09<00:00, 75.06it/s, loss=3.6e+3] \n"
     ]
    },
    {
     "name": "stdout",
     "output_type": "stream",
     "text": [
      "Epoch 2/10, Training: Loss is 0.6866\n"
     ]
    },
    {
     "name": "stderr",
     "output_type": "stream",
     "text": [
      "100%|██████████| 2125/2125 [00:13<00:00, 160.47it/s, loss=1.55e+3]\n"
     ]
    },
    {
     "name": "stdout",
     "output_type": "stream",
     "text": [
      "Epoch 2/10, Validation: Loss is 0.7286, Val Acc is 49.39%\n"
     ]
    },
    {
     "name": "stderr",
     "output_type": "stream",
     "text": [
      "100%|██████████| 5238/5238 [01:11<00:00, 73.17it/s, loss=3.58e+3]\n"
     ]
    },
    {
     "name": "stdout",
     "output_type": "stream",
     "text": [
      "Epoch 3/10, Training: Loss is 0.6825\n"
     ]
    },
    {
     "name": "stderr",
     "output_type": "stream",
     "text": [
      "100%|██████████| 2125/2125 [00:12<00:00, 167.04it/s, loss=1.48e+3]\n"
     ]
    },
    {
     "name": "stdout",
     "output_type": "stream",
     "text": [
      "Epoch 3/10, Validation: Loss is 0.6957, Val Acc is 50.86%\n",
      "💾 Updated current split best model at epoch 3\n"
     ]
    },
    {
     "name": "stderr",
     "output_type": "stream",
     "text": [
      "100%|██████████| 5238/5238 [01:09<00:00, 75.17it/s, loss=3.56e+3]\n"
     ]
    },
    {
     "name": "stdout",
     "output_type": "stream",
     "text": [
      "Epoch 4/10, Training: Loss is 0.6798\n"
     ]
    },
    {
     "name": "stderr",
     "output_type": "stream",
     "text": [
      "100%|██████████| 2125/2125 [00:12<00:00, 165.84it/s, loss=1.49e+3]\n"
     ]
    },
    {
     "name": "stdout",
     "output_type": "stream",
     "text": [
      "Epoch 4/10, Validation: Loss is 0.6989, Val Acc is 50.75%\n"
     ]
    },
    {
     "name": "stderr",
     "output_type": "stream",
     "text": [
      "100%|██████████| 5238/5238 [01:13<00:00, 71.49it/s, loss=3.55e+3]\n"
     ]
    },
    {
     "name": "stdout",
     "output_type": "stream",
     "text": [
      "Epoch 5/10, Training: Loss is 0.6769\n"
     ]
    },
    {
     "name": "stderr",
     "output_type": "stream",
     "text": [
      "100%|██████████| 2125/2125 [00:13<00:00, 159.81it/s, loss=1.49e+3]\n"
     ]
    },
    {
     "name": "stdout",
     "output_type": "stream",
     "text": [
      "Epoch 5/10, Validation: Loss is 0.7032, Val Acc is 49.87%\n"
     ]
    },
    {
     "name": "stderr",
     "output_type": "stream",
     "text": [
      "100%|██████████| 5238/5238 [01:13<00:00, 71.49it/s, loss=3.53e+3]\n"
     ]
    },
    {
     "name": "stdout",
     "output_type": "stream",
     "text": [
      "Epoch 6/10, Training: Loss is 0.6743\n"
     ]
    },
    {
     "name": "stderr",
     "output_type": "stream",
     "text": [
      "100%|██████████| 2125/2125 [00:13<00:00, 160.12it/s, loss=1.49e+3]\n"
     ]
    },
    {
     "name": "stdout",
     "output_type": "stream",
     "text": [
      "Epoch 6/10, Validation: Loss is 0.6995, Val Acc is 50.75%\n",
      "🛑 Early stopping triggered at epoch 6\n",
      "✅ Split 10 | Best Val Accuracy: 50.86% | Test Accuracy: 49.64%\n"
     ]
    }
   ],
   "source": [
    "num_epochs = 10\n",
    "patience = 3  # Early stopping patience\n",
    "losses_per_split = OrderedDict()  # Track losses per split\n",
    "best_val_acc_all_splits = 0.0  # Track the best validation accuracy across all splits\n",
    "best_model_path_all_splits = (\n",
    "    \"best_model_all_splits.pth\"  # Path to save overall best model\n",
    ")\n",
    "\n",
    "\n",
    "def init_weights(m):\n",
    "    \"\"\"Apply Xavier uniform initialization to linear and convolutional layers.\"\"\"\n",
    "    if isinstance(m, (nn.Linear, nn.Conv2d)):\n",
    "        nn.init.xavier_uniform_(m.weight)\n",
    "        if m.bias is not None:\n",
    "            nn.init.zeros_(m.bias)\n",
    "\n",
    "\n",
    "for i, split in enumerate(splits):\n",
    "    print(\n",
    "        f\"\\n🔁 Split {i+1} | Train years: {split['years']['train']}, \"\n",
    "        f\"Val: {split['years']['val']}, Test: {split['years']['test']}\"\n",
    "    )\n",
    "    train_loader = split[\"train_loader\"]\n",
    "    val_loader = split[\"val_loader\"]\n",
    "    test_loader = split[\"test_loader\"]\n",
    "\n",
    "    # Initialize model, loss, optimizer\n",
    "    model = PaperNet().to(device)\n",
    "    model.apply(init_weights)  # Apply Xavier initialization\n",
    "    criterion = nn.CrossEntropyLoss()\n",
    "    optimizer = optim.Adam(model.parameters(), lr=0.001)\n",
    "\n",
    "    best_val_acc = 0.0\n",
    "    epochs_no_improve = 0\n",
    "    epoch_losses = OrderedDict()  # Store losses for this split\n",
    "\n",
    "    for epoch in range(num_epochs):\n",
    "        # Training phase\n",
    "        training_loss = training(train_loader, model, criterion, optimizer)\n",
    "        print(f\"Epoch {epoch+1}/{num_epochs}, Training: Loss is {training_loss:.4f}\")\n",
    "\n",
    "        # Validation phase\n",
    "        val_loss, val_acc = validation(val_loader, model, criterion)\n",
    "        print(\n",
    "            f\"Epoch {epoch+1}/{num_epochs}, Validation: Loss is {val_loss:.4f}, Val Acc is {val_acc:.2f}%\"\n",
    "        )\n",
    "        # Save training and validation losses for this epoch\n",
    "        epoch_losses[f\"Epoch {epoch + 1}\"] = {\n",
    "            \"train_loss\": training_loss,\n",
    "            \"val_loss\": val_loss,\n",
    "            \"val_acc\": val_acc,\n",
    "        }\n",
    "\n",
    "        # update the best model over all splits\n",
    "        if val_acc > best_val_acc_all_splits:\n",
    "            best_val_acc_all_splits = val_acc\n",
    "            torch.save(model.state_dict(), best_model_path_all_splits)\n",
    "            print(f\"💾 Updated overall best model at epoch {epoch+1}\")\n",
    "\n",
    "        # Check for early stopping\n",
    "        if val_acc > best_val_acc:\n",
    "            best_val_acc = val_acc\n",
    "            epochs_no_improve = 0\n",
    "            best_epoch_path = f\"best_model_split_{i+1}.pth\"\n",
    "            torch.save(model.state_dict(), best_epoch_path)\n",
    "            print(f\"💾 Updated current split best model at epoch {epoch+1}\")\n",
    "        else:\n",
    "            epochs_no_improve += 1\n",
    "\n",
    "        if epochs_no_improve >= patience:\n",
    "            print(f\"🛑 Early stopping triggered at epoch {epoch+1}\")\n",
    "            break\n",
    "\n",
    "    # Store the losses for this split in the main dictionary\n",
    "    losses_per_split[f\"Split {i+1}\"] = epoch_losses\n",
    "\n",
    "    # Final test set evaluation\n",
    "    model.load_state_dict(torch.load(best_epoch_path))  # Load best model\n",
    "    model.eval()\n",
    "    test_correct, test_total = 0, 0\n",
    "    with torch.no_grad():\n",
    "        for inputs, labels in test_loader:\n",
    "            inputs, labels = inputs.to(device), labels.to(device)\n",
    "            outputs = model(inputs).squeeze(1)\n",
    "            # predicted = (outputs > 0.5).float()\n",
    "            predicted = torch.argmax(outputs, dim=1)\n",
    "            test_total += labels.size(0)\n",
    "            test_correct += (predicted == labels).sum().item()\n",
    "\n",
    "    test_acc = 100 * test_correct / test_total\n",
    "    print(\n",
    "        f\"✅ Split {i+1} | Best Val Accuracy: {best_val_acc:.2f}% | Test Accuracy: {test_acc:.2f}%\"\n",
    "    )"
   ]
  },
  {
   "cell_type": "code",
   "execution_count": 22,
   "metadata": {},
   "outputs": [
    {
     "data": {
      "text/plain": [
       "OrderedDict([('Split 1',\n",
       "              OrderedDict([('Epoch 1',\n",
       "                            {'train_loss': 0.7233542623681717,\n",
       "                             'val_loss': 0.688305766729515,\n",
       "                             'val_acc': 54.466910429329005}),\n",
       "                           ('Epoch 2',\n",
       "                            {'train_loss': 0.6781570289666673,\n",
       "                             'val_loss': 0.6936788920799127,\n",
       "                             'val_acc': 54.26011574690656}),\n",
       "                           ('Epoch 3',\n",
       "                            {'train_loss': 0.6758392866333826,\n",
       "                             'val_loss': 0.6840863735970603,\n",
       "                             'val_acc': 55.017555754655305}),\n",
       "                           ('Epoch 4',\n",
       "                            {'train_loss': 0.6743545884059535,\n",
       "                             'val_loss': 0.7036583325720291,\n",
       "                             'val_acc': 51.70690364917549}),\n",
       "                           ('Epoch 5',\n",
       "                            {'train_loss': 0.6736930102125529,\n",
       "                             'val_loss': 0.6818488413126874,\n",
       "                             'val_acc': 55.98711770830811}),\n",
       "                           ('Epoch 6',\n",
       "                            {'train_loss': 0.6728180745846946,\n",
       "                             'val_loss': 0.6842626441843856,\n",
       "                             'val_acc': 55.24662808436448}),\n",
       "                           ('Epoch 7',\n",
       "                            {'train_loss': 0.6721296515198624,\n",
       "                             'val_loss': 0.6836098230657173,\n",
       "                             'val_acc': 55.1797951425043}),\n",
       "                           ('Epoch 8',\n",
       "                            {'train_loss': 0.6716834866447644,\n",
       "                             'val_loss': 0.6922857859646679,\n",
       "                             'val_acc': 54.093033392256096})])),\n",
       "             ('Split 2',\n",
       "              OrderedDict([('Epoch 1',\n",
       "                            {'train_loss': 0.7326059996125295,\n",
       "                             'val_loss': 0.6863887670544895,\n",
       "                             'val_acc': 54.8011129051769}),\n",
       "                           ('Epoch 2',\n",
       "                            {'train_loss': 0.6845546331270993,\n",
       "                             'val_loss': 0.6874947279481044,\n",
       "                             'val_acc': 54.38035480426859}),\n",
       "                           ('Epoch 3',\n",
       "                            {'train_loss': 0.6819579606107224,\n",
       "                             'val_loss': 0.6824657892346262,\n",
       "                             'val_acc': 55.70100929349455}),\n",
       "                           ('Epoch 4',\n",
       "                            {'train_loss': 0.6803679541429932,\n",
       "                             'val_loss': 0.6830631672272736,\n",
       "                             'val_acc': 55.61790956856516}),\n",
       "                           ('Epoch 5',\n",
       "                            {'train_loss': 0.6794667174780838,\n",
       "                             'val_loss': 0.6832822836717344,\n",
       "                             'val_acc': 55.403322937101926}),\n",
       "                           ('Epoch 6',\n",
       "                            {'train_loss': 0.6787029145027604,\n",
       "                             'val_loss': 0.6814157119586949,\n",
       "                             'val_acc': 56.02709682169849}),\n",
       "                           ('Epoch 7',\n",
       "                            {'train_loss': 0.6780018071464555,\n",
       "                             'val_loss': 0.6825968439793274,\n",
       "                             'val_acc': 55.616331725686756}),\n",
       "                           ('Epoch 8',\n",
       "                            {'train_loss': 0.6773762870359842,\n",
       "                             'val_loss': 0.6817080216831488,\n",
       "                             'val_acc': 55.83880757154203}),\n",
       "                           ('Epoch 9',\n",
       "                            {'train_loss': 0.6766068561410175,\n",
       "                             'val_loss': 0.6827487660674124,\n",
       "                             'val_acc': 55.673660016935514})])),\n",
       "             ('Split 3',\n",
       "              OrderedDict([('Epoch 1',\n",
       "                            {'train_loss': 0.726391149757173,\n",
       "                             'val_loss': 0.6888668087587195,\n",
       "                             'val_acc': 54.00574950637067}),\n",
       "                           ('Epoch 2',\n",
       "                            {'train_loss': 0.6866853558641719,\n",
       "                             'val_loss': 0.6847607243445611,\n",
       "                             'val_acc': 55.24807499564886}),\n",
       "                           ('Epoch 3',\n",
       "                            {'train_loss': 0.6839802444798709,\n",
       "                             'val_loss': 0.6851896726728035,\n",
       "                             'val_acc': 54.924590242643575}),\n",
       "                           ('Epoch 4',\n",
       "                            {'train_loss': 0.6826625152351228,\n",
       "                             'val_loss': 0.6849427558538917,\n",
       "                             'val_acc': 54.90118411023688}),\n",
       "                           ('Epoch 5',\n",
       "                            {'train_loss': 0.6816065020070089,\n",
       "                             'val_loss': 0.6864669579331593,\n",
       "                             'val_acc': 54.463669481404125})])),\n",
       "             ('Split 4',\n",
       "              OrderedDict([('Epoch 1',\n",
       "                            {'train_loss': 0.7312243172465436,\n",
       "                             'val_loss': 0.6972450325164581,\n",
       "                             'val_acc': 50.74563192070015}),\n",
       "                           ('Epoch 2',\n",
       "                            {'train_loss': 0.6858124157037765,\n",
       "                             'val_loss': 0.6915378867742384,\n",
       "                             'val_acc': 53.039932243796855}),\n",
       "                           ('Epoch 3',\n",
       "                            {'train_loss': 0.6825573318013287,\n",
       "                             'val_loss': 0.6928041922141633,\n",
       "                             'val_acc': 52.57567677781612}),\n",
       "                           ('Epoch 4',\n",
       "                            {'train_loss': 0.6812416733529714,\n",
       "                             'val_loss': 0.6892784067733563,\n",
       "                             'val_acc': 53.43517676213181}),\n",
       "                           ('Epoch 5',\n",
       "                            {'train_loss': 0.679951820928354,\n",
       "                             'val_loss': 0.6899877871580747,\n",
       "                             'val_acc': 54.35239499356943}),\n",
       "                           ('Epoch 6',\n",
       "                            {'train_loss': 0.6788858344277158,\n",
       "                             'val_loss': 0.6955646170472964,\n",
       "                             'val_acc': 51.86235452805922}),\n",
       "                           ('Epoch 7',\n",
       "                            {'train_loss': 0.67776357116101,\n",
       "                             'val_loss': 0.6891343671602688,\n",
       "                             'val_acc': 54.24197747733618}),\n",
       "                           ('Epoch 8',\n",
       "                            {'train_loss': 0.6764138610764934,\n",
       "                             'val_loss': 0.6960253954555844,\n",
       "                             'val_acc': 52.499764735405755})])),\n",
       "             ('Split 5',\n",
       "              OrderedDict([('Epoch 1',\n",
       "                            {'train_loss': 0.7409314696801927,\n",
       "                             'val_loss': 0.6932537693771187,\n",
       "                             'val_acc': 52.05048883157784}),\n",
       "                           ('Epoch 2',\n",
       "                            {'train_loss': 0.6871597858673943,\n",
       "                             'val_loss': 0.6878614768722804,\n",
       "                             'val_acc': 54.28045355635047}),\n",
       "                           ('Epoch 3',\n",
       "                            {'train_loss': 0.684469384453228,\n",
       "                             'val_loss': 0.6922770071625474,\n",
       "                             'val_acc': 52.63200312455441}),\n",
       "                           ('Epoch 4',\n",
       "                            {'train_loss': 0.6816587799342221,\n",
       "                             'val_loss': 0.7005628380497407,\n",
       "                             'val_acc': 51.37598184782676}),\n",
       "                           ('Epoch 5',\n",
       "                            {'train_loss': 0.6798635626306434,\n",
       "                             'val_loss': 0.6932020397566463,\n",
       "                             'val_acc': 53.00087413129328})])),\n",
       "             ('Split 6',\n",
       "              OrderedDict([('Epoch 1',\n",
       "                            {'train_loss': 0.7371052542720657,\n",
       "                             'val_loss': 0.699405992499291,\n",
       "                             'val_acc': 52.12915933113436}),\n",
       "                           ('Epoch 2',\n",
       "                            {'train_loss': 0.6847006240878922,\n",
       "                             'val_loss': 0.7031621782235354,\n",
       "                             'val_acc': 49.56526431524914}),\n",
       "                           ('Epoch 3',\n",
       "                            {'train_loss': 0.6824289366828493,\n",
       "                             'val_loss': 0.7070495151835472,\n",
       "                             'val_acc': 50.62225549911974}),\n",
       "                           ('Epoch 4',\n",
       "                            {'train_loss': 0.6800406548321485,\n",
       "                             'val_loss': 0.6978491304709986,\n",
       "                             'val_acc': 51.810105834024725})])),\n",
       "             ('Split 7',\n",
       "              OrderedDict([('Epoch 1',\n",
       "                            {'train_loss': 0.7499747690257227,\n",
       "                             'val_loss': 0.6965090422400563,\n",
       "                             'val_acc': 51.9743642753773}),\n",
       "                           ('Epoch 2',\n",
       "                            {'train_loss': 0.6842678659649882,\n",
       "                             'val_loss': 0.7034553255908715,\n",
       "                             'val_acc': 51.50846156118019}),\n",
       "                           ('Epoch 3',\n",
       "                            {'train_loss': 0.6804728455884396,\n",
       "                             'val_loss': 0.701736108362534,\n",
       "                             'val_acc': 51.337901296553355}),\n",
       "                           ('Epoch 4',\n",
       "                            {'train_loss': 0.6776602510947523,\n",
       "                             'val_loss': 0.7108234741465911,\n",
       "                             'val_acc': 50.30641779142916})])),\n",
       "             ('Split 8',\n",
       "              OrderedDict([('Epoch 1',\n",
       "                            {'train_loss': 0.731720636161121,\n",
       "                             'val_loss': 0.7235238197765749,\n",
       "                             'val_acc': 48.69132203801542}),\n",
       "                           ('Epoch 2',\n",
       "                            {'train_loss': 0.672142728684848,\n",
       "                             'val_loss': 0.7223998180809039,\n",
       "                             'val_acc': 48.38464808404688}),\n",
       "                           ('Epoch 3',\n",
       "                            {'train_loss': 0.6654169243734106,\n",
       "                             'val_loss': 0.7207776202977195,\n",
       "                             'val_acc': 48.867431833363696}),\n",
       "                           ('Epoch 4',\n",
       "                            {'train_loss': 0.6597409627559289,\n",
       "                             'val_loss': 0.7301620567464435,\n",
       "                             'val_acc': 48.47725754539382}),\n",
       "                           ('Epoch 5',\n",
       "                            {'train_loss': 0.654781035364061,\n",
       "                             'val_loss': 0.7253111960703797,\n",
       "                             'val_acc': 48.961559482601565}),\n",
       "                           ('Epoch 6',\n",
       "                            {'train_loss': 0.6504665167890835,\n",
       "                             'val_loss': 0.7399055551648892,\n",
       "                             'val_acc': 49.049614380275706}),\n",
       "                           ('Epoch 7',\n",
       "                            {'train_loss': 0.6464885676812548,\n",
       "                             'val_loss': 0.7297124015352806,\n",
       "                             'val_acc': 48.46283476042995}),\n",
       "                           ('Epoch 8',\n",
       "                            {'train_loss': 0.6424505778560093,\n",
       "                             'val_loss': 0.7352082807789617,\n",
       "                             'val_acc': 48.08708325742394}),\n",
       "                           ('Epoch 9',\n",
       "                            {'train_loss': 0.637956447098218,\n",
       "                             'val_loss': 0.7389890996503158,\n",
       "                             'val_acc': 48.81884982085383})])),\n",
       "             ('Split 9',\n",
       "              OrderedDict([('Epoch 1',\n",
       "                            {'train_loss': 0.7676150500095773,\n",
       "                             'val_loss': 0.702697633604582,\n",
       "                             'val_acc': 50.89363765252077}),\n",
       "                           ('Epoch 2',\n",
       "                            {'train_loss': 0.6749481142245841,\n",
       "                             'val_loss': 0.7064105920157486,\n",
       "                             'val_acc': 49.75868477693952}),\n",
       "                           ('Epoch 3',\n",
       "                            {'train_loss': 0.6684295647397666,\n",
       "                             'val_loss': 0.7161329293105387,\n",
       "                             'val_acc': 49.492025945977716}),\n",
       "                           ('Epoch 4',\n",
       "                            {'train_loss': 0.6639575874895932,\n",
       "                             'val_loss': 0.7434154150629402,\n",
       "                             'val_acc': 48.861006839101144})])),\n",
       "             ('Split 10',\n",
       "              OrderedDict([('Epoch 1',\n",
       "                            {'train_loss': 0.7615445407236201,\n",
       "                             'val_loss': 0.7017337913513184,\n",
       "                             'val_acc': 50.81360892359503}),\n",
       "                           ('Epoch 2',\n",
       "                            {'train_loss': 0.686620727300917,\n",
       "                             'val_loss': 0.7286319557077744,\n",
       "                             'val_acc': 49.38639254700402}),\n",
       "                           ('Epoch 3',\n",
       "                            {'train_loss': 0.6825133586325869,\n",
       "                             'val_loss': 0.6957498899628134,\n",
       "                             'val_acc': 50.861403392672}),\n",
       "                           ('Epoch 4',\n",
       "                            {'train_loss': 0.6798111537614365,\n",
       "                             'val_loss': 0.6988655718915603,\n",
       "                             'val_acc': 50.7496378649843}),\n",
       "                           ('Epoch 5',\n",
       "                            {'train_loss': 0.6768820701140673,\n",
       "                             'val_loss': 0.7031759270499734,\n",
       "                             'val_acc': 49.87316083206494}),\n",
       "                           ('Epoch 6',\n",
       "                            {'train_loss': 0.6742592381015449,\n",
       "                             'val_loss': 0.6995141892994151,\n",
       "                             'val_acc': 50.754049662129866})]))])"
      ]
     },
     "execution_count": 22,
     "metadata": {},
     "output_type": "execute_result"
    }
   ],
   "source": [
    "losses_per_split"
   ]
  },
  {
   "cell_type": "code",
   "execution_count": 24,
   "metadata": {},
   "outputs": [],
   "source": [
    "file_path = \"losses_per_split.json\"\n",
    "with open(file_path, \"w\") as f:\n",
    "    json.dump(losses_per_split, f, indent=4)"
   ]
  },
  {
   "cell_type": "code",
   "execution_count": null,
   "metadata": {},
   "outputs": [],
   "source": []
  }
 ],
 "metadata": {
  "colab": {
   "provenance": []
  },
  "kernelspec": {
   "display_name": "llama3",
   "language": "python",
   "name": "python3"
  },
  "language_info": {
   "codemirror_mode": {
    "name": "ipython",
    "version": 3
   },
   "file_extension": ".py",
   "mimetype": "text/x-python",
   "name": "python",
   "nbconvert_exporter": "python",
   "pygments_lexer": "ipython3",
   "version": "3.11.10"
  }
 },
 "nbformat": 4,
 "nbformat_minor": 0
}
